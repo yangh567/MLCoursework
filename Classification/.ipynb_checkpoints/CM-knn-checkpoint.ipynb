{
 "cells": [
  {
   "cell_type": "markdown",
   "metadata": {},
   "source": [
    "###  KNN, Naive Bayes Classifier, and ROC/AUC analysis\n",
    "\n",
    "- #### Aims:\n",
    "    - ##### Implement a KNN classifier\n",
    "    - ##### Implement a Naive Bayes classifier\n",
    "    - ##### Compare the two classifiers with ROC and AUC"
   ]
  },
  {
   "cell_type": "code",
   "execution_count": 1,
   "metadata": {},
   "outputs": [],
   "source": [
    "import numpy as np\n",
    "import pylab as plt\n",
    "from sklearn.model_selection import train_test_split\n",
    "from sklearn.metrics import roc_curve, roc_auc_score \n",
    "%matplotlib inline"
   ]
  },
  {
   "cell_type": "markdown",
   "metadata": {},
   "source": [
    "#### Task 1:  Implement a KNN classifier\n",
    "\n",
    "\n",
    "##### Task 1.1: Load classification data\n",
    "Download `trainx.csv` and `testx.csv` from Moodle. In trainx.csv, each row corresponds to an instance. The first two columns are the values for two features and the third is the class label. The same format is used in `testx.csv`. Load these datasets into python (numpy.loadtxt) and create an X matrix consisting of the first two columns and a t vector as the last one. Do the same for the test data so you have four objects: $\\mathbf{X}$, $\\mathbf{X}_{test}$, $\\mathbf{t}$ and $\\mathbf{t}_{test}$."
   ]
  },
  {
   "cell_type": "code",
   "execution_count": 2,
   "metadata": {},
   "outputs": [],
   "source": [
    "X_train = np.loadtxt('X_train.csv', delimiter=',', skiprows=1)\n",
    "X_test = np.loadtxt('X_test.csv', delimiter=',', skiprows=1)\n",
    "Y_train = np.loadtxt('y_train.csv', delimiter=',', skiprows=1)[:,1][:,None]\n",
    "from sklearn.decomposition import PCA\n",
    "# Make an instance of the Model\n",
    "\n",
    "pca = PCA(n_components=5,copy=True,whiten=True)\n",
    "pca.fit(X_train)\n",
    "X_train = pca.transform(X_train)\n",
    "X_test = pca.transform(X_test)\n",
    "    "
   ]
  },
  {
   "cell_type": "code",
   "execution_count": 3,
   "metadata": {},
   "outputs": [],
   "source": [
    "cross_X_train, cross_X_test, cross_Y_train, cross_Y_test = train_test_split(X_train,Y_train, test_size=0.5,random_state=1234)"
   ]
  },
  {
   "cell_type": "code",
   "execution_count": 4,
   "metadata": {},
   "outputs": [
    {
     "data": {
      "text/plain": [
       "((100, 5), (100, 1))"
      ]
     },
     "execution_count": 4,
     "metadata": {},
     "output_type": "execute_result"
    }
   ],
   "source": [
    "cross_X_train.shape, cross_Y_test.shape"
   ]
  },
  {
   "cell_type": "code",
   "execution_count": 5,
   "metadata": {},
   "outputs": [],
   "source": [
    "from collections import Counter"
   ]
  },
  {
   "cell_type": "code",
   "execution_count": 6,
   "metadata": {},
   "outputs": [],
   "source": [
    "ctrain = Counter(cross_Y_train.flatten())"
   ]
  },
  {
   "cell_type": "code",
   "execution_count": 7,
   "metadata": {},
   "outputs": [
    {
     "data": {
      "text/plain": [
       "Counter({1.0: 50, 2.0: 50})"
      ]
     },
     "execution_count": 7,
     "metadata": {},
     "output_type": "execute_result"
    }
   ],
   "source": [
    "ctrain"
   ]
  },
  {
   "cell_type": "code",
   "execution_count": 8,
   "metadata": {},
   "outputs": [],
   "source": [
    "ctest = Counter(cross_Y_test.flatten())"
   ]
  },
  {
   "cell_type": "code",
   "execution_count": 9,
   "metadata": {},
   "outputs": [
    {
     "data": {
      "text/plain": [
       "Counter({1.0: 44, 2.0: 56})"
      ]
     },
     "execution_count": 9,
     "metadata": {},
     "output_type": "execute_result"
    }
   ],
   "source": [
    "ctest"
   ]
  },
  {
   "cell_type": "markdown",
   "metadata": {},
   "source": [
    "##### Task 1.2: Write a KNN function for a single test example (a row)\n",
    "Implement a KNN function that takes a single test example and a value of K and returns a classification. Your function should find the K closest (see below) training points to the test point and return the majority class\n",
    "amongst these training points.\n",
    "\n",
    "If your training data is in a numpy array with 100 rows and 2 columns, then the distance between a test point and the ith row is given by:\n",
    "\n",
    "`sq_diff = (test_row - trainx[i,:])**2\n",
    "dist = np.sqrt(sq_diff.sum())`\n",
    "\n",
    "where test_row is a row of $\\mathbf{X}_{test}$.\n",
    "The first line creates a new vector which holds the squared difference of the two pairs of values. The second line takes the sum of these differences and then takes the square root. This is computing the Euclidean distance. Other distance metrics could also be used.\n",
    "\n",
    "The `zip`, `sorted` and `numpy`'s `unique` can be helpful for finding the nearest neighbours.\n",
    "\n",
    "Make sure your function returns both the predicted class and predicted score. For KNN, the score can be the percentage of votes for each class. "
   ]
  },
  {
   "cell_type": "code",
   "execution_count": 10,
   "metadata": {},
   "outputs": [],
   "source": [
    "def knn_classifier(trainX, traint, test_data, K):\n",
    "    distances = np.sqrt( ((trainX - test_data)**2).sum(axis=1)) # computing distances from the testing data to all training data\n",
    "    dc = zip(distances, traint) \n",
    "    dc = sorted(dc, key = lambda x: x[0]) # sort distance \n",
    "    selected_neighbor = np.asarray(dc[:K]) # select K number of neareast neighbours\n",
    "    classes, counts = np.unique(selected_neighbor[:,1], return_counts=True)\n",
    "    prediction = {}\n",
    "    prediction[\"predicted_class\"] = classes[counts.argmax()]\n",
    "    \n",
    "    if ( len(classes) == 1 and classes[counts.argmax()] == 1.0):\n",
    "        prediction[\"predicted_score\"] = np.hstack( (1.0- (1.0*counts/sum(counts)), 1.0*counts/sum(counts) ) )\n",
    "    elif ( len(classes) == 1 and classes[counts.argmax()] == 0.0):\n",
    "        prediction[\"predicted_score\"] = np.hstack( ( 1.0*counts/sum(counts), 1.0- (1.0*counts/sum(counts)) ) )\n",
    "    else:\n",
    "        prediction[\"predicted_score\"] = 1.0*counts/sum(counts)\n",
    "    return(prediction)"
   ]
  },
  {
   "cell_type": "markdown",
   "metadata": {},
   "source": [
    "##### Task 1.4: Plot Accuracy vs K \n",
    "\n",
    "Test your function with a range of possible `K`, and compare accuracies on all test data. Plot the results."
   ]
  },
  {
   "cell_type": "code",
   "execution_count": 11,
   "metadata": {},
   "outputs": [
    {
     "name": "stdout",
     "output_type": "stream",
     "text": [
      "79\n",
      "0.85\n"
     ]
    },
    {
     "data": {
      "text/plain": [
       "Text(0, 0.5, 'Accuracy')"
      ]
     },
     "execution_count": 11,
     "metadata": {},
     "output_type": "execute_result"
    },
    {
     "data": {
      "image/png": "[encoded data removed]",
      "text/plain": [
       "<Figure size 432x288 with 1 Axes>"
      ]
     },
     "metadata": {
      "needs_background": "light"
     },
     "output_type": "display_data"
    }
   ],
   "source": [
    "Kvals = np.arange(1,100,1)\n",
    "accuracy = []\n",
    "\n",
    "for k in Kvals:\n",
    "    correct = 0\n",
    "    for i,row in enumerate(cross_X_test):\n",
    "        c = knn_classifier(cross_X_train,cross_Y_train,row,K=k)[\"predicted_class\"]\n",
    "        if c == cross_Y_test[i]:\n",
    "            correct += 1\n",
    "    accuracy.append(1.0*correct / (1.0*len(cross_X_test)))\n",
    "print(np.array(accuracy).argmax())\n",
    "print(max(accuracy))\n",
    "\n",
    "plt.figure()\n",
    "plt.plot(Kvals,accuracy)\n",
    "plt.xlabel(\"K\")\n",
    "plt.ylabel(\"Accuracy\")"
   ]
  },
  {
   "cell_type": "markdown",
   "metadata": {},
   "source": [
    "##### Task 1.3: Test with a test point"
   ]
  },
  {
   "cell_type": "code",
   "execution_count": 12,
   "metadata": {},
   "outputs": [],
   "source": [
    "y_prediction = []\n",
    "for i in range(len(X_test)):\n",
    "    c = knn_classifier(X_train,Y_train,X_test[i,:],K=79)\n",
    "    y_prediction.append(c[\"predicted_class\"])\n",
    "y_prediction = np.array(y_prediction)"
   ]
  },
  {
   "cell_type": "code",
   "execution_count": 13,
   "metadata": {},
   "outputs": [
    {
     "name": "stdout",
     "output_type": "stream",
     "text": [
      "[[  0.   2.]\n",
      " [  1.   2.]\n",
      " [  2.   2.]\n",
      " ...\n",
      " [795.   1.]\n",
      " [796.   2.]\n",
      " [797.   2.]]\n"
     ]
    }
   ],
   "source": [
    "test_header = \"Id,EpiOrStroma\"\n",
    "n_points = X_test.shape[0]\n",
    "y_pred_pp = np.ones((n_points, 2))\n",
    "y_pred_pp[:, 0] = range(n_points)\n",
    "y_pred_pp[:, 1] = y_prediction[:,0]\n",
    "print(y_pred_pp)\n",
    "\n",
    "np.savetxt('my_submission_knn_cl.csv', y_pred_pp, fmt='%d', delimiter=\",\",header=test_header, comments=\"\")"
   ]
  },
  {
   "cell_type": "markdown",
   "metadata": {
    "collapsed": true
   },
   "source": [
    "#### Task 2:  Implement a Naive Bayes classifier\n",
    "\n",
    "##### Task 2.1: Write your function to train a Gaussian Naive Bayes classifier\n",
    "We will use Gaussian distributions for each class. For each class, we fit a Gaussian to each dimension (by compute the mean and variance). The prior for each class will be the proportion of training data in that class."
   ]
  },
  {
   "cell_type": "code",
   "execution_count": 14,
   "metadata": {},
   "outputs": [],
   "source": [
    "def naive_bayes_training(trainX, traint):\n",
    "    parameters = {}\n",
    "    for cl in range(1,3):\n",
    "        data_pos = np.where(traint == cl)[0]\n",
    "        class_pars = {}\n",
    "        class_pars['mean'] = np.mean(trainX[data_pos,:],axis=0)\n",
    "        class_pars['vars'] = trainX[data_pos,:].var(axis=0)\n",
    "        class_pars['prior'] = len(data_pos)/len(trainX)\n",
    "        parameters[cl] = class_pars\n",
    "    return(parameters)"
   ]
  },
  {
   "cell_type": "markdown",
   "metadata": {},
   "source": [
    "##### Task 2.2: Write your function to make prediction on testX with the trained Gaussian Naive Bayes classifier \n",
    "\n",
    "Computing the likelihood for each class and multiplying by the prior, and normalise. Make sure you function also returns the probability of assigning the test data to each class."
   ]
  },
  {
   "cell_type": "code",
   "execution_count": 15,
   "metadata": {},
   "outputs": [],
   "source": [
    "def naive_bayes_prediction(parameters, tx):\n",
    "    un_norm_prob = np.zeros((2,))\n",
    "    for cl in range(2):\n",
    "        un_norm_prob[cl] = parameters[cl+1]['prior']\n",
    "        for i,m in enumerate(parameters[cl+1]['mean']):\n",
    "            vari = parameters[cl+1]['vars'][i]\n",
    "            if vari == 0:\n",
    "                vari = 0.1e-3000\n",
    "            un_norm_prob[cl] *= 1.0/np.sqrt(2.0*np.pi*vari)\n",
    "            un_norm_prob[cl] *= np.exp((-0.5/vari)*(tx[i]-m)**2)\n",
    "        \n",
    "    norm_prob = un_norm_prob/un_norm_prob.sum()\n",
    "    prediction = {}\n",
    "    prediction['predicted_class'] = norm_prob.argmax()+1\n",
    "    prediction['predicted_score'] = norm_prob\n",
    "    return(prediction) \n"
   ]
  },
  {
   "cell_type": "markdown",
   "metadata": {},
   "source": [
    "##### Task 2.3:  Make predictions\n",
    "Loop through the test points, "
   ]
  },
  {
   "cell_type": "code",
   "execution_count": 16,
   "metadata": {},
   "outputs": [],
   "source": [
    "parameters = naive_bayes_training(cross_X_train, cross_Y_train)\n",
    "predictions_nb = np.zeros((100, 3))\n",
    "for j,tx in enumerate(cross_X_test):\n",
    "    naive_bayes_results = naive_bayes_prediction(parameters, tx)\n",
    "    predictions_nb[j, 0] = naive_bayes_results['predicted_class']\n",
    "    predictions_nb[j, 1:] = naive_bayes_results['predicted_score']\n",
    "    \n",
    "    \n",
    "parameters = naive_bayes_training(X_train, Y_train)\n",
    "\n",
    "Y_predictions_nb = np.zeros((798, 3))\n",
    "for j,tx in enumerate(X_test):\n",
    "    naive_bayes_results = naive_bayes_prediction(parameters, tx)\n",
    "    Y_predictions_nb[j, 0] = naive_bayes_results['predicted_class']\n",
    "    Y_predictions_nb[j, 1:] = naive_bayes_results['predicted_score']"
   ]
  },
  {
   "cell_type": "markdown",
   "metadata": {},
   "source": [
    "Compute the accuracy of the classifier"
   ]
  },
  {
   "cell_type": "code",
   "execution_count": 17,
   "metadata": {},
   "outputs": [
    {
     "name": "stdout",
     "output_type": "stream",
     "text": [
      "0.5012\n"
     ]
    }
   ],
   "source": [
    "accuracy = (predictions_nb[:,0] == cross_Y_test).mean()\n",
    "print (accuracy)"
   ]
  },
  {
   "cell_type": "code",
   "execution_count": 18,
   "metadata": {},
   "outputs": [
    {
     "name": "stdout",
     "output_type": "stream",
     "text": [
      "[[  0.   2.]\n",
      " [  1.   2.]\n",
      " [  2.   2.]\n",
      " ...\n",
      " [795.   1.]\n",
      " [796.   2.]\n",
      " [797.   2.]]\n"
     ]
    }
   ],
   "source": [
    "test_header = \"Id,EpiOrStroma\"\n",
    "n_points = X_test.shape[0]\n",
    "y_pred_pp_b = np.ones((n_points, 2))\n",
    "y_pred_pp_b[:, 0] = range(n_points)\n",
    "y_pred_pp_b[:, 1] = Y_predictions_nb[:, 0]\n",
    "print(y_pred_pp_b)\n",
    "np.savetxt('my_submission_b_cl.csv', y_pred_pp_b, fmt='%d', delimiter=\",\",header=test_header, comments=\"\")"
   ]
  },
  {
   "cell_type": "markdown",
   "metadata": {},
   "source": [
    "#### Task 3:  Comparing classifiers with ROC and AUC\n",
    "\n",
    "#### Task 3.1: Plot the ROC curve for your Gaussian Naive Bayes classifier. \n",
    "\n",
    "In this task you can use the `roc_curve` and `roc_auc_score` function from `sklearn`\n",
    "\n",
    "Details of `roc_curve` http://scikit-learn.org/stable/modules/generated/sklearn.metrics.roc_curve.html\n",
    "Details of `roc_auc_score` http://scikit-learn.org/stable/modules/generated/sklearn.metrics.roc_auc_score.html\n"
   ]
  },
  {
   "cell_type": "markdown",
   "metadata": {},
   "source": [
    "#### Task 3:  Comparing classifiers with ROC and AUC\n",
    "\n",
    "#### Task 3.1: Plot the ROC curve for your Gaussian Naive Bayes classifier. \n",
    "\n",
    "In this task you can use the `roc_curve` and `roc_auc_score` function from `sklearn`\n",
    "\n",
    "Details of `roc_curve` http://scikit-learn.org/stable/modules/generated/sklearn.metrics.roc_curve.html\n",
    "Details of `roc_auc_score` http://scikit-learn.org/stable/modules/generated/sklearn.metrics.roc_auc_score.html\n"
   ]
  },
  {
   "cell_type": "code",
   "execution_count": 19,
   "metadata": {
    "scrolled": true
   },
   "outputs": [
    {
     "data": {
      "text/plain": [
       "Text(0, 0.5, 'Sensitivity or True Positive Rate')"
      ]
     },
     "execution_count": 19,
     "metadata": {},
     "output_type": "execute_result"
    },
    {
     "data": {
      "image/png": "[encoded data removed]",
      "text/plain": [
       "<Figure size 432x288 with 1 Axes>"
      ]
     },
     "metadata": {
      "needs_background": "light"
     },
     "output_type": "display_data"
    }
   ],
   "source": [
    "from sklearn.metrics import roc_curve, roc_auc_score \n",
    "fpr_nb, tpr_nb, th_nb = roc_curve(cross_Y_test-1, predictions_nb[:,2])\n",
    "\n",
    "plt.plot(fpr_nb, tpr_nb)\n",
    "plt.xlabel(\"1-Specificity  or False Positive Rate\")\n",
    "plt.ylabel(\"Sensitivity or True Positive Rate\")"
   ]
  },
  {
   "cell_type": "markdown",
   "metadata": {},
   "source": [
    "##### Task 3.2: Make predictions with KNN (K = 3)"
   ]
  },
  {
   "cell_type": "code",
   "execution_count": 20,
   "metadata": {},
   "outputs": [],
   "source": [
    "predictions_knn = np.zeros((100, 3))\n",
    "for j,tx in enumerate(cross_X_train):\n",
    "    knn_results = knn_classifier(cross_X_train, cross_Y_train, tx, K = 79)\n",
    "    predictions_knn[j, 0] = knn_results['predicted_class']\n",
    "    predictions_knn[j, 1:] = knn_results['predicted_score']"
   ]
  },
  {
   "cell_type": "markdown",
   "metadata": {},
   "source": [
    "##### Task 3.3: Overlay the two ROC curves"
   ]
  },
  {
   "cell_type": "code",
   "execution_count": 21,
   "metadata": {},
   "outputs": [
    {
     "data": {
      "text/plain": [
       "Text(0, 0.5, 'Sensitivity or True Positive Rate')"
      ]
     },
     "execution_count": 21,
     "metadata": {},
     "output_type": "execute_result"
    },
    {
     "data": {
      "image/png": "[encoded data removed]",
      "text/plain": [
       "<Figure size 432x288 with 1 Axes>"
      ]
     },
     "metadata": {
      "needs_background": "light"
     },
     "output_type": "display_data"
    }
   ],
   "source": [
    "fpr_knn, tpr_knn, th_knn = roc_curve(cross_Y_train-1, predictions_knn[:,2])\n",
    "\n",
    "plt.plot(fpr_knn, tpr_knn, \"r\")\n",
    "plt.plot(fpr_nb, tpr_nb)\n",
    "plt.xlabel(\"1-Specificity  or False Positive Rate\")\n",
    "plt.ylabel(\"Sensitivity or True Positive Rate\")"
   ]
  },
  {
   "cell_type": "markdown",
   "metadata": {},
   "source": [
    "##### Task 3.4:  Compute the AUC for the two classifier \n",
    "\n",
    "AUCs range between 0.5 and 1. Higher AUC indicates better classifier"
   ]
  },
  {
   "cell_type": "code",
   "execution_count": 22,
   "metadata": {},
   "outputs": [
    {
     "name": "stdout",
     "output_type": "stream",
     "text": [
      "0.846\n",
      "0.45640000000000003\n"
     ]
    }
   ],
   "source": [
    "auc_knn = roc_auc_score(cross_Y_train-1, predictions_knn[:,2])\n",
    "auc_nb = roc_auc_score(cross_Y_train-1, predictions_nb[:,2])\n",
    "print(auc_knn)\n",
    "print(auc_nb)\n"
   ]
  },
  {
   "cell_type": "code",
   "execution_count": null,
   "metadata": {},
   "outputs": [],
   "source": []
  },
  {
   "cell_type": "code",
   "execution_count": null,
   "metadata": {},
   "outputs": [],
   "source": []
  },
  {
   "cell_type": "code",
   "execution_count": null,
   "metadata": {},
   "outputs": [],
   "source": []
  }
 ],
 "metadata": {
  "kernelspec": {
   "display_name": "Python 3",
   "language": "python",
   "name": "python3"
  },
  "language_info": {
   "codemirror_mode": {
    "name": "ipython",
    "version": 3
   },
   "file_extension": ".py",
   "mimetype": "text/x-python",
   "name": "python",
   "nbconvert_exporter": "python",
   "pygments_lexer": "ipython3",
   "version": "3.7.2"
  }
 },
 "nbformat": 4,
 "nbformat_minor": 2
}
