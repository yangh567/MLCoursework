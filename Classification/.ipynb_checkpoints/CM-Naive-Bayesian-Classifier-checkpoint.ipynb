{
 "cells": [
  {
   "cell_type": "markdown",
   "metadata": {},
   "source": [
    "### Performing Naive Bayesian Classifier,and ROC/AUC analysis on data\n",
    "\n",
    "- #### Procedures:\n",
    "    - ##### 1.The proccess for whole features\n",
    "        - ##### 1.1.Implement a NB classifier\n",
    "        - ##### 1.2.Train data with cross validation to calculate the avarage accuracy suing 0/1 loss and observe average accuracy\n",
    "        - ##### 1.3.Split train data into cross_train and cross_test to observe the accuracy（0/1 loss),draw the ROC and calculate AUC and confusion matrix with evaluation\n",
    "    - ##### 2.The proccess for subset of features by feature extraction\n",
    "        - ##### 2.1.Train data with cross validation to calculate the avarage accuracy and observe average accuracy\n",
    "        - ##### 2.2.Split train data into cross_train and cross_test to observe the accuracy（0/1 loss),draw the ROC and calculate AUC and confusion matrix with evaluation \n",
    "        - ##### 2.3.Predict the Y_test for submission with the classifier\n",
    "    - ##### 3.Compare the performance of NB with whole features and subset of features with feature extraction"
   ]
  },
  {
   "cell_type": "code",
   "execution_count": 1,
   "metadata": {},
   "outputs": [],
   "source": [
    "import numpy as np\n",
    "import pylab as plt\n",
    "import pandas as pd\n",
    "from sklearn.model_selection import train_test_split\n",
    "from sklearn.metrics import roc_curve, roc_auc_score \n",
    "from collections import Counter\n",
    "from random import seed\n",
    "from random import randrange\n",
    "from sklearn import feature_selection\n",
    "from sklearn.preprocessing import StandardScaler\n",
    "from sklearn.metrics import classification_report\n",
    "from sklearn.metrics import precision_score\n",
    "from sklearn.metrics import recall_score\n",
    "from sklearn.metrics import accuracy_score\n",
    "from sklearn.metrics import fbeta_score\n",
    "from sklearn.metrics import confusion_matrix\n",
    "from sklearn.feature_selection import VarianceThreshold\n",
    "from sklearn.model_selection import RepeatedKFold\n",
    "from sklearn.linear_model import LogisticRegression\n",
    "from sklearn.feature_selection import SelectKBest\n",
    "from sklearn.feature_selection import f_classif\n",
    "from sklearn.feature_selection import RFE\n",
    "%matplotlib inline"
   ]
  },
  {
   "cell_type": "markdown",
   "metadata": {},
   "source": [
    "### 1.The proccess for whole features"
   ]
  },
  {
   "cell_type": "markdown",
   "metadata": {},
   "source": [
    "#### 1.1:  Implement a NB classifier\n",
    "\n",
    "\n",
    "##### First: Load classification data\n",
    "Download `X_train.csv` and `X_test.csv`,`y_train.csv` from Moodle. In X_train.csv, each row corresponds to an instance.the columns representing all of the features. The same format is used in `X_test.csv`. Load these datasets into python (numpy.loadtxt) and create an X matrix consisting of 112 columns and a Y_train as training t. Do the same for the test data so we have four objects: $\\mathbf{X}_{train}$, $\\mathbf{X}_{test}$, and $\\mathbf{Y}_{train}$.and normalize the data"
   ]
  },
  {
   "cell_type": "code",
   "execution_count": 2,
   "metadata": {},
   "outputs": [],
   "source": [
    "X_train = np.loadtxt('X_train.csv', delimiter=',', skiprows=1)\n",
    "X_test = np.loadtxt('X_test.csv', delimiter=',', skiprows=1)\n",
    "Y_train = np.loadtxt('y_train.csv', delimiter=',', skiprows=1)[:,1][:,None]\n",
    "\n",
    "rec_arr = np.genfromtxt(\"X_train.csv\", delimiter = \",\", names=True, dtype=None)\n",
    "feature_list = []\n",
    "for i in rec_arr.dtype.names:\n",
    "    feature_list.append(i)\n",
    "feature_list.pop(86)\n",
    "\n",
    "feature_list = np.array(feature_list)\n",
    "\n",
    "# Make an instance of the Model\n",
    "# remove constant features\n",
    "thresholder = VarianceThreshold(threshold=0)\n",
    "X_train = thresholder.fit_transform(X_train)\n",
    "X_test = thresholder.transform(X_test)\n",
    "# normalize the data \n",
    "\n",
    "feature_scaler = StandardScaler()\n",
    "X_train = feature_scaler.fit_transform(X_train)\n",
    "X_test = feature_scaler.transform(X_test)"
   ]
  },
  {
   "cell_type": "markdown",
   "metadata": {},
   "source": [
    "##### Second: implement a NB classifier \n",
    "\n",
    "##### Third 1: Write the nb_train function to get the mean and variance for each class \n",
    "We use Gaussian distributions for each class. first compute the mean and variance). The prior for each class will be the proportion of training data in that class.\n",
    "\n",
    "##### Third 2: Write function to make prediction on testX with the trained Gaussian Naive Bayes classifier \n",
    "\n",
    "Computing the likelihood for each class using the mean and variance calculated and multiplying by the prior, and then normalise it. the function will also returns the probability of assigning the test data to each class."
   ]
  },
  {
   "cell_type": "code",
   "execution_count": 3,
   "metadata": {},
   "outputs": [],
   "source": [
    "def nb_train(X_train, y_train):\n",
    "    priori = dict()\n",
    "    counter = Counter(y_train)\n",
    "    for label, counts in counter.items():\n",
    "        priori[label] = counts / len(y_train)\n",
    "    stats = dict()\n",
    "    for label in set(y_train):\n",
    "        indices = np.where(y_train == label)[0]\n",
    "        stats[label] = dict()\n",
    "        stats[label]['mean'] = X_train[indices].mean(axis=0)\n",
    "        stats[label]['var'] = X_train[indices].var(axis=0)\n",
    "\n",
    "    return priori, stats"
   ]
  },
  {
   "cell_type": "code",
   "execution_count": 4,
   "metadata": {},
   "outputs": [],
   "source": [
    "def nb_predict(priori, stats, sample):\n",
    "    post = {k: v for k, v in priori.items()}\n",
    "    for label in priori.keys():\n",
    "        mean = stats[label]['mean']\n",
    "        var = stats[label]['var']\n",
    "        p = 1. / (np.sqrt(2 * np.pi) * var) * np.exp(- (sample - mean) ** 2 / (2 * var ** 2))\n",
    "\n",
    "        post[label] *= np.prod(p)\n",
    "        \n",
    "    s = sum(post.values())\n",
    "    for label in post:\n",
    "        post[label] /= s\n",
    "    pred = max(post, key=lambda x: post[x])\n",
    "    return post, pred\n",
    "\n",
    "\n",
    "def predict(priori, stats, data):\n",
    "    p = [nb_predict(priori, stats, sample) for sample in data]\n",
    "    p_label = np.array([item[1] for item in p])\n",
    "    prob = np.array([item[0][2.] for item in p])\n",
    "    return p_label, prob"
   ]
  },
  {
   "cell_type": "markdown",
   "metadata": {},
   "source": [
    "##### 1.2.Train data with cross validation to calculate the avarage accuracy suing 0/1 loss and observe average accuracy"
   ]
  },
  {
   "cell_type": "code",
   "execution_count": 5,
   "metadata": {},
   "outputs": [
    {
     "name": "stdout",
     "output_type": "stream",
     "text": [
      "[1.0, 0.85, 0.8, 0.8, 0.8, 0.85, 0.7, 0.9, 0.85, 0.75, 0.7, 0.85, 0.9, 0.85, 0.9, 0.9, 0.75, 0.9, 0.85, 0.7, 0.7, 1.0, 0.9, 0.9, 0.75, 0.95, 0.75, 0.8, 0.7, 0.85, 0.95, 0.85, 0.9, 0.85, 0.95, 0.7, 0.8, 0.75, 0.9, 0.7, 0.85, 0.85, 0.9, 0.65, 0.95, 0.9, 0.85, 0.85, 0.85, 0.75, 0.8, 0.8, 0.95, 0.75, 0.85, 0.75, 0.8, 0.7, 0.9, 0.95, 0.9, 0.85, 0.8, 0.85, 0.85, 0.7, 0.9, 0.85, 0.9, 0.7, 0.7, 0.75, 0.8, 0.85, 0.95, 0.85, 0.85, 0.9, 0.85, 0.75, 0.9, 0.85, 0.75, 0.85, 0.85, 0.95, 0.85, 0.8, 0.7, 0.8, 0.75, 0.85, 0.75, 0.95, 0.9, 0.8, 0.9, 0.8, 0.95, 0.7]\n",
      "The average accuracy : 0.8310000000000001\n"
     ]
    }
   ],
   "source": [
    "from sklearn.naive_bayes import GaussianNB\n",
    "\n",
    "#Create a Gaussian Classifier\n",
    "model = GaussianNB()\n",
    "\n",
    "# Train the model using the training sets\n",
    "\n",
    "#Predict Output\n",
    "\n",
    "kf = RepeatedKFold(n_splits=10, n_repeats=10, random_state=1)\n",
    "\n",
    "results = []\n",
    "\n",
    "for train_index, test_index in kf.split(X_train):\n",
    "    #print(\"TRAIN:\", train_index, \"TEST:\", test_index)\n",
    "    cross_fold_X_train, cross_fold_X_test = X_train[train_index], X_train[test_index]\n",
    "    cross_fold_Y_train, cross_fold_Y_test = Y_train[train_index].flatten(), Y_train[test_index].flatten()\n",
    "    \n",
    "    #cross_fold_priori, cross_fold_stats = nb_train(cross_fold_X_train, cross_fold_Y_train)\n",
    "    #cross_fold_y_test_pred, cross_fold_y_test_prob = predict(cross_fold_priori, cross_fold_stats, cross_fold_X_test)\n",
    "    model.fit(cross_fold_X_train,cross_fold_Y_train)\n",
    "    cross_fold_y_test_pred = model.predict(cross_fold_X_test)\n",
    "    results.append(np.mean(cross_fold_Y_test == cross_fold_y_test_pred))\n",
    "print(results)\n",
    "\n",
    "temp = 0\n",
    "k = 0\n",
    "for i in results:\n",
    "    temp += i\n",
    "print(\"The average accuracy :\",temp/len(results))\n"
   ]
  },
  {
   "cell_type": "markdown",
   "metadata": {},
   "source": [
    "##### 1.3.Split train data into cross_train and cross_test to observe the accuracy（0/1 loss),draw the ROC and calculate AUC and confusion matrix with evaluation\n"
   ]
  },
  {
   "cell_type": "markdown",
   "metadata": {},
   "source": [
    "#### First:split the training data into cross_train and cross_test data "
   ]
  },
  {
   "cell_type": "code",
   "execution_count": 6,
   "metadata": {},
   "outputs": [
    {
     "name": "stdout",
     "output_type": "stream",
     "text": [
      "Counter({2.0: 73, 1.0: 67})\n",
      "Counter({2.0: 33, 1.0: 27})\n"
     ]
    }
   ],
   "source": [
    "cross_X_train, cross_X_test, cross_Y_train, cross_Y_test = train_test_split(X_train,Y_train, test_size=0.3,random_state=28)\n",
    "ctrain = Counter(cross_Y_train.flatten())\n",
    "ctest =  Counter(cross_Y_test.flatten())\n",
    "print(ctrain)\n",
    "print(ctest)"
   ]
  },
  {
   "cell_type": "markdown",
   "metadata": {},
   "source": [
    "#### second: Do the Naive Bayesian prediction on cross_data for evaluating accuracy"
   ]
  },
  {
   "cell_type": "code",
   "execution_count": 7,
   "metadata": {},
   "outputs": [
    {
     "name": "stdout",
     "output_type": "stream",
     "text": [
      "The accuracy for Naive Baesian classifier with all features: 0.85\n"
     ]
    }
   ],
   "source": [
    "cross_X_train, cross_Y_train = cross_X_train, cross_Y_train.flatten()\n",
    "cross_X_test, cross_Y_test = cross_X_test, cross_Y_test.flatten()\n",
    "    \n",
    "#cross_priori, cross_stats = nb_train(cross_X_train, cross_Y_train)\n",
    "#cross_y_test_pred, cross_y_test_prob = predict(cross_priori, cross_stats, cross_X_test)\n",
    "\n",
    "model.fit(cross_X_train,cross_Y_train)\n",
    "cross_y_test_pred = model.predict(cross_X_test)\n",
    "\n",
    "\n",
    "cross_y_test_prob = model.predict_proba(cross_X_test)\n",
    "\n",
    "\n",
    "    \n",
    "print(\"The accuracy for Naive Baesian classifier with all features:\",np.mean(cross_Y_test == cross_y_test_pred))"
   ]
  },
  {
   "cell_type": "markdown",
   "metadata": {},
   "source": [
    "#### Third:Draw the ROC graph for evaluating"
   ]
  },
  {
   "cell_type": "code",
   "execution_count": 8,
   "metadata": {},
   "outputs": [
    {
     "data": {
      "text/plain": [
       "Text(0,0.5,'Sensitivity or True Positive Rate')"
      ]
     },
     "execution_count": 8,
     "metadata": {},
     "output_type": "execute_result"
    },
    {
     "data": {
      "image/png": "[encoded data removed]",
      "text/plain": [
       "<matplotlib.figure.Figure at 0x263ac28ab00>"
      ]
     },
     "metadata": {},
     "output_type": "display_data"
    }
   ],
   "source": [
    "fpr_nb, tpr_nb, th_nb = roc_curve(cross_Y_test - 1, cross_y_test_prob[:,1])\n",
    "\n",
    "plt.plot(fpr_nb, tpr_nb)\n",
    "plt.xlabel(\"1-Specificity  or False Positive Rate\")\n",
    "plt.ylabel(\"Sensitivity or True Positive Rate\")"
   ]
  },
  {
   "cell_type": "markdown",
   "metadata": {},
   "source": [
    "#### Fourth:Calculate area under the curve(AUC)"
   ]
  },
  {
   "cell_type": "code",
   "execution_count": 9,
   "metadata": {},
   "outputs": [
    {
     "name": "stdout",
     "output_type": "stream",
     "text": [
      "0.9023569023569024\n"
     ]
    }
   ],
   "source": [
    "auc_nb = roc_auc_score(cross_Y_test - 1, cross_y_test_prob[:,1])\n",
    "print(auc_nb)"
   ]
  },
  {
   "cell_type": "markdown",
   "metadata": {},
   "source": [
    "#### Fifth:Draw the confusion matrix for evaluation"
   ]
  },
  {
   "cell_type": "code",
   "execution_count": 10,
   "metadata": {},
   "outputs": [],
   "source": [
    "def evaluation_summary(description, predictions, true_labels):\n",
    "  print(\"Evaluation for: \" + description)\n",
    "  precision = precision_score(predictions, true_labels, average='macro')\n",
    "  recall = recall_score(predictions, true_labels, average='macro')\n",
    "  accuracy = accuracy_score(predictions, true_labels)\n",
    "  f1 = fbeta_score(predictions, true_labels, 1, average='macro') #1 means f_1 measure\n",
    "  print(\"Classifier '%s' has Acc=%0.3f P=%0.3f R=%0.3f F1=%0.3f\" % (description,accuracy,precision,recall,f1))\n",
    "  print(classification_report(predictions, true_labels, digits=3))\n"
   ]
  },
  {
   "cell_type": "code",
   "execution_count": 11,
   "metadata": {},
   "outputs": [],
   "source": [
    "def plot_confusion_matrix(y_true, y_pred,\n",
    "                          normalize=False,\n",
    "                          title=None,\n",
    "                          cmap=plt.cm.PuRd):\n",
    "    \"\"\"\n",
    "    This function prints and plots the confusion matrix.\n",
    "    Normalization can be applied by setting `normalize=True`.\n",
    "    \"\"\"\n",
    "    if not title:\n",
    "        if normalize:\n",
    "            title = 'Normalized confusion matrix'\n",
    "        else:\n",
    "            title = 'Confusion matrix, without normalization'\n",
    "\n",
    "    # Compute confusion matrix\n",
    "    cm = confusion_matrix(y_true, y_pred)\n",
    "    # Only use the labels that appear in the data\n",
    "#     classes = classes[unique_labels(y_true, y_pred)]\n",
    "    if normalize:\n",
    "        cm = cm.astype('float') / cm.sum(axis=1)[:, np.newaxis]\n",
    "        print(\"Normalized confusion matrix\")\n",
    "    else:\n",
    "        print('Confusion matrix, without normalization')\n",
    "\n",
    "    print(cm)\n",
    "\n",
    "    fig, ax = plt.subplots(figsize=(12,10))\n",
    "    im = ax.imshow(cm, interpolation='nearest', cmap=cmap)\n",
    "    ax.figure.colorbar(im, ax=ax)\n",
    "    # We want to show all ticks...\n",
    "    ax.set(xticks=np.arange(cm.shape[1]),\n",
    "           yticks=np.arange(cm.shape[0]),\n",
    "           # ... and label them with the respective list entries\n",
    "           title=title,\n",
    "           ylabel='True label',\n",
    "           xlabel='Predicted label')\n",
    "\n",
    "    # Rotate the tick labels and set their alignment.\n",
    "    plt.setp(ax.get_xticklabels(), rotation=45, ha=\"right\",\n",
    "             rotation_mode=\"anchor\")\n",
    "\n",
    "    # Loop over data dimensions and create text annotations.\n",
    "    fmt = '.2f' if normalize else 'd'\n",
    "    thresh = cm.max() / 2.\n",
    "    for i in range(cm.shape[0]):\n",
    "        for j in range(cm.shape[1]):\n",
    "            ax.text(j, i, format(cm[i, j], fmt),\n",
    "                    ha=\"center\", va=\"center\",\n",
    "                    color=\"white\" if cm[i, j] > thresh else \"black\")\n",
    "    fig.tight_layout()\n",
    "    return ax\n",
    "\n"
   ]
  },
  {
   "cell_type": "code",
   "execution_count": 12,
   "metadata": {},
   "outputs": [
    {
     "name": "stdout",
     "output_type": "stream",
     "text": [
      "Evaluation for: description\n",
      "Classifier 'description' has Acc=0.850 P=0.857 R=0.855 F1=0.850\n",
      "              precision    recall  f1-score   support\n",
      "\n",
      "         1.0      0.926     0.781     0.847        32\n",
      "         2.0      0.788     0.929     0.852        28\n",
      "\n",
      "    accuracy                          0.850        60\n",
      "   macro avg      0.857     0.855     0.850        60\n",
      "weighted avg      0.862     0.850     0.850        60\n",
      "\n",
      "Confusion matrix, without normalization\n",
      "[[25  2]\n",
      " [ 7 26]]\n"
     ]
    },
    {
     "data": {
      "text/plain": [
       "<matplotlib.axes._subplots.AxesSubplot at 0x263ac28a0f0>"
      ]
     },
     "execution_count": 12,
     "metadata": {},
     "output_type": "execute_result"
    },
    {
     "data": {
      "image/png": "[encoded data removed]",
      "text/plain": [
       "<matplotlib.figure.Figure at 0x263973a0c50>"
      ]
     },
     "metadata": {},
     "output_type": "display_data"
    }
   ],
   "source": [
    "evaluation_summary(\"description\", cross_y_test_pred, cross_Y_test)\n",
    "plot_confusion_matrix(cross_Y_test, cross_y_test_pred,normalize=False,\n",
    "                          title=None,\n",
    "                          cmap=plt.cm.PuRd)"
   ]
  },
  {
   "cell_type": "markdown",
   "metadata": {},
   "source": [
    "### 2.The proccess for subset of features by feature extraction"
   ]
  },
  {
   "cell_type": "code",
   "execution_count": 13,
   "metadata": {},
   "outputs": [
    {
     "name": "stdout",
     "output_type": "stream",
     "text": [
      "['SkewnessLayer1' 'RatioLayer3' 'ContrasttoneighborpixelsLayer33'\n",
      " 'HSITransformationHueRLayer1GLayer2BLayer3' 'Areaofsubobjectsmean1Pxl'\n",
      " 'Areaofsubobjectsstddev1Pxl' 'GLCMHomogeneityquick811Layer1alldir'\n",
      " 'GLCMContrastquick811Layer1alldir' 'GLCMMeanquick811Layer1alldir'\n",
      " 'AreaofsubobjectsNucleus1Pxl']\n"
     ]
    }
   ],
   "source": [
    "skb = SelectKBest(f_classif, k=50)\n",
    "X_train_sub = skb.fit_transform(X_train, Y_train.ravel())\n",
    "X_test_sub = skb.transform(X_test)\n",
    "feature_list_extracted = feature_list[skb.get_support()]\n",
    "\n",
    "model = LogisticRegression()\n",
    "rfe = RFE(model,10)\n",
    "fit = rfe.fit(X_train_sub, Y_train.ravel())\n",
    "X_train_sub = fit.transform(X_train_sub)\n",
    "X_test_sub = fit.transform(X_test_sub)\n",
    "\n",
    "feature_list_final = feature_list_extracted[rfe.get_support()]\n",
    "print(feature_list_final)\n",
    "\n",
    "\n",
    "Y_train_sub = Y_train"
   ]
  },
  {
   "cell_type": "markdown",
   "metadata": {},
   "source": [
    "##### 2.1..Train data with cross validation to calculate the avarage accuracy and observe average accuracy"
   ]
  },
  {
   "cell_type": "code",
   "execution_count": 14,
   "metadata": {},
   "outputs": [
    {
     "name": "stdout",
     "output_type": "stream",
     "text": [
      "[0.85, 0.95, 0.9, 0.85, 0.85, 1.0, 0.85, 1.0, 1.0, 0.7, 0.95, 0.85, 0.95, 0.85, 0.9, 0.9, 0.9, 1.0, 0.95, 0.85, 0.9, 0.95, 0.8, 0.95, 0.95, 0.95, 0.8, 0.9, 0.9, 0.85, 1.0, 1.0, 1.0, 0.85, 0.9, 0.85, 0.8, 0.85, 0.9, 0.85, 0.85, 0.9, 0.9, 1.0, 0.95, 0.9, 0.9, 0.9, 0.9, 0.85, 0.9, 0.95, 0.75, 0.9, 0.95, 0.85, 0.75, 0.9, 0.95, 1.0, 0.8, 0.85, 0.9, 0.95, 0.95, 0.75, 0.95, 0.95, 0.85, 0.9, 0.8, 0.9, 0.95, 0.95, 1.0, 0.95, 0.85, 0.95, 0.9, 0.85, 0.95, 0.95, 0.9, 0.85, 0.95, 0.9, 0.9, 0.95, 0.8, 0.95, 0.85, 0.9, 0.9, 1.0, 0.95, 1.0, 0.95, 0.9, 0.95, 0.75]\n",
      "The average accuracy : 0.9015000000000005\n"
     ]
    }
   ],
   "source": [
    "kf = RepeatedKFold(n_splits=10, n_repeats=10, random_state=1)\n",
    "\n",
    "results_sub = []\n",
    "\n",
    "\n",
    "    \n",
    "for train_index_sub, test_index_sub in kf.split(X_train_sub):\n",
    "    #print(\"TRAIN:\", train_index, \"TEST:\", test_index)\n",
    "    cross_fold_X_train_sub, cross_fold_X_test_sub = X_train_sub[train_index_sub], X_train_sub[test_index_sub]\n",
    "    cross_fold_Y_train_sub, cross_fold_Y_test_sub = Y_train_sub[train_index_sub].flatten(), Y_train_sub[test_index_sub].flatten()\n",
    "    #cross_fold_priori_sub, cross_fold_stats_sub = nb_train(cross_fold_X_train_sub, cross_fold_Y_train_sub)\n",
    "    #cross_fold_y_test_pred_sub, cross_fold_y_test_prob_sub = predict(cross_fold_priori_sub, cross_fold_stats_sub, cross_fold_X_test_sub)\n",
    "    model.fit(cross_fold_X_train_sub,cross_fold_Y_train_sub)\n",
    "    cross_fold_y_test_pred_sub = model.predict(cross_fold_X_test_sub)\n",
    "\n",
    "\n",
    "    results_sub.append(np.mean(cross_fold_Y_test_sub == cross_fold_y_test_pred_sub))\n",
    "print(results_sub)\n",
    "\n",
    "temp = 0\n",
    "for i in results_sub:\n",
    "    temp += i\n",
    "print(\"The average accuracy :\",temp/len(results_sub))\n",
    "\n"
   ]
  },
  {
   "cell_type": "markdown",
   "metadata": {},
   "source": [
    "##### 2.2.Split train data into cross_train and cross_test to observe the accuracy（0/1 loss),draw the ROC and calculate AUC and confusion matrix with evaluation\n"
   ]
  },
  {
   "cell_type": "markdown",
   "metadata": {},
   "source": [
    "#### First:split the training data into cross_train and cross_test data "
   ]
  },
  {
   "cell_type": "code",
   "execution_count": 15,
   "metadata": {},
   "outputs": [
    {
     "name": "stdout",
     "output_type": "stream",
     "text": [
      "Counter({2.0: 73, 1.0: 67})\n",
      "Counter({2.0: 33, 1.0: 27})\n"
     ]
    }
   ],
   "source": [
    "cross_X_train_sub, cross_X_test_sub, cross_Y_train_sub, cross_Y_test_sub = train_test_split(X_train_sub,Y_train_sub, test_size=0.3,random_state=28)\n",
    "ctrain = Counter(cross_Y_train_sub.flatten())\n",
    "ctest =  Counter(cross_Y_test_sub.flatten())\n",
    "print(ctrain)\n",
    "print(ctest)"
   ]
  },
  {
   "cell_type": "markdown",
   "metadata": {},
   "source": [
    "#### second: Do the Naive Bayesian prediction on cross_data for evaluating accuracy"
   ]
  },
  {
   "cell_type": "code",
   "execution_count": 16,
   "metadata": {},
   "outputs": [
    {
     "name": "stdout",
     "output_type": "stream",
     "text": [
      "The accuracy for Naive Baesian classifier with subset features: 0.9\n"
     ]
    }
   ],
   "source": [
    "cross_X_train_sub, cross_Y_train_sub = cross_X_train_sub, cross_Y_train_sub.flatten()\n",
    "cross_X_test_sub, cross_Y_test_sub = cross_X_test_sub, cross_Y_test_sub.flatten()\n",
    "\n",
    "model.fit(cross_X_train_sub,cross_Y_train_sub)\n",
    "cross_y_test_pred_sub = model.predict(cross_X_test_sub)\n",
    "\n",
    "\n",
    "cross_y_test_prob_sub = model.predict_proba(cross_X_test_sub)\n",
    "    \n",
    "#cross_priori_sub, cross_stats_sub = nb_train(cross_X_train_sub, cross_Y_train_sub)\n",
    "#cross_y_test_pred_sub, cross_y_test_prob_sub = predict(cross_priori_sub, cross_stats_sub, cross_X_test_sub)\n",
    "    \n",
    "print(\"The accuracy for Naive Baesian classifier with subset features:\",np.mean(cross_Y_test_sub == cross_y_test_pred_sub))"
   ]
  },
  {
   "cell_type": "markdown",
   "metadata": {},
   "source": [
    "#### Third:Draw the ROC graph for evaluating"
   ]
  },
  {
   "cell_type": "code",
   "execution_count": 17,
   "metadata": {},
   "outputs": [
    {
     "data": {
      "text/plain": [
       "Text(0,0.5,'Sensitivity or True Positive Rate')"
      ]
     },
     "execution_count": 17,
     "metadata": {},
     "output_type": "execute_result"
    },
    {
     "data": {
      "image/png": "[encoded data removed]",
      "text/plain": [
       "<matplotlib.figure.Figure at 0x263ac2f4860>"
      ]
     },
     "metadata": {},
     "output_type": "display_data"
    }
   ],
   "source": [
    "fpr_nb_sub, tpr_nb_sub, th_nb_sub = roc_curve(cross_Y_test_sub - 1, cross_y_test_prob_sub[:,1])\n",
    "\n",
    "plt.plot(fpr_nb_sub, tpr_nb_sub)\n",
    "plt.xlabel(\"1-Specificity  or False Positive Rate\")\n",
    "plt.ylabel(\"Sensitivity or True Positive Rate\")"
   ]
  },
  {
   "cell_type": "markdown",
   "metadata": {},
   "source": [
    "#### Fourth:Calculate area under the curve(AUC)"
   ]
  },
  {
   "cell_type": "code",
   "execution_count": 18,
   "metadata": {},
   "outputs": [
    {
     "name": "stdout",
     "output_type": "stream",
     "text": [
      "0.9719416386083053\n"
     ]
    }
   ],
   "source": [
    "auc_nb = roc_auc_score(cross_Y_test_sub - 1, cross_y_test_prob_sub[:,1])\n",
    "print(auc_nb)"
   ]
  },
  {
   "cell_type": "markdown",
   "metadata": {},
   "source": [
    "#### Fifth:Draw the confusion matrix for evaluation"
   ]
  },
  {
   "cell_type": "code",
   "execution_count": 19,
   "metadata": {},
   "outputs": [
    {
     "name": "stdout",
     "output_type": "stream",
     "text": [
      "Evaluation for: description\n",
      "Classifier 'description' has Acc=0.900 P=0.906 R=0.902 F1=0.900\n",
      "              precision    recall  f1-score   support\n",
      "\n",
      "         1.0      0.963     0.839     0.897        31\n",
      "         2.0      0.848     0.966     0.903        29\n",
      "\n",
      "    accuracy                          0.900        60\n",
      "   macro avg      0.906     0.902     0.900        60\n",
      "weighted avg      0.908     0.900     0.900        60\n",
      "\n",
      "Confusion matrix, without normalization\n",
      "[[26  1]\n",
      " [ 5 28]]\n"
     ]
    },
    {
     "data": {
      "text/plain": [
       "<matplotlib.axes._subplots.AxesSubplot at 0x263ac48a080>"
      ]
     },
     "execution_count": 19,
     "metadata": {},
     "output_type": "execute_result"
    },
    {
     "data": {
      "image/png": "[encoded data removed]",
      "text/plain": [
       "<matplotlib.figure.Figure at 0x263ac4aac50>"
      ]
     },
     "metadata": {},
     "output_type": "display_data"
    }
   ],
   "source": [
    "evaluation_summary(\"description\", cross_y_test_pred_sub, cross_Y_test_sub)\n",
    "plot_confusion_matrix(cross_Y_test_sub, cross_y_test_pred_sub,normalize=False,\n",
    "                          title=None,\n",
    "                          cmap=plt.cm.PuRd)"
   ]
  },
  {
   "cell_type": "markdown",
   "metadata": {},
   "source": [
    "##### 2.3.Predict the Y_test for submission with the classifier"
   ]
  },
  {
   "cell_type": "code",
   "execution_count": 20,
   "metadata": {},
   "outputs": [
    {
     "name": "stdout",
     "output_type": "stream",
     "text": [
      "(798,)\n"
     ]
    }
   ],
   "source": [
    "X_train_sub,Y_train_sub = X_train_sub,Y_train_sub.flatten()\n",
    "\n",
    "model.fit(X_train_sub,Y_train_sub)\n",
    "y_test_pred = model.predict(X_test_sub)\n",
    "\n",
    "\n",
    "#priori_sub, stats_sub = nb_train(X_train_sub,Y_train_sub)\n",
    "#y_test_pred, y_test_prob = predict(priori_sub, stats_sub,X_test_sub)\n",
    "print(y_test_pred.shape)"
   ]
  },
  {
   "cell_type": "code",
   "execution_count": 21,
   "metadata": {},
   "outputs": [
    {
     "name": "stdout",
     "output_type": "stream",
     "text": [
      "798\n",
      "[[  0.   2.]\n",
      " [  1.   2.]\n",
      " [  2.   2.]\n",
      " ...\n",
      " [795.   1.]\n",
      " [796.   2.]\n",
      " [797.   2.]]\n"
     ]
    }
   ],
   "source": [
    "test_header = \"Id,EpiOrStroma\"\n",
    "n_points = X_test_sub.shape[0]\n",
    "print(X_test_sub.shape[0])\n",
    "y_pred_pp_b = np.ones((n_points, 2))\n",
    "y_pred_pp_b[:, 0] = range(n_points)\n",
    "y_pred_pp_b[:, 1] = y_test_pred\n",
    "print(y_pred_pp_b)\n",
    "np.savetxt('my_submission_Naive_Bayesian_cl.csv', y_pred_pp_b, fmt='%d', delimiter=\",\",header=test_header, comments=\"\")"
   ]
  },
  {
   "cell_type": "markdown",
   "metadata": {},
   "source": [
    "### 3.Compare the performance of NB with whole features and subset of features with feature extraction"
   ]
  },
  {
   "cell_type": "markdown",
   "metadata": {},
   "source": [
    "#### The performance for the whole feature data using Naive Bayesian classifer sharing the average accuracy around 0.831 with Repeated K-fold cross validation,whereas the performance for subset of feature data using Naive Bayesian classifer sharing the average accuracy around 0.9015 using Repeated k-fold cross validation,which indicate the for Naive Bayesian classifer classifier ,the accuracy might be higher for that classifier if we deploy important features\n"
   ]
  },
  {
   "cell_type": "markdown",
   "metadata": {},
   "source": [
    "#### The ROC for Naive bayes classifier with all features(Blue) and subset of features(orange) is sketched below"
   ]
  },
  {
   "cell_type": "code",
   "execution_count": 22,
   "metadata": {},
   "outputs": [
    {
     "data": {
      "text/plain": [
       "Text(0,0.5,'Sensitivity or True Positive Rate')"
      ]
     },
     "execution_count": 22,
     "metadata": {},
     "output_type": "execute_result"
    },
    {
     "data": {
      "image/png": "[encoded data removed]",
      "text/plain": [
       "<matplotlib.figure.Figure at 0x263ae4bd198>"
      ]
     },
     "metadata": {},
     "output_type": "display_data"
    }
   ],
   "source": [
    "plt.plot(fpr_nb, tpr_nb)\n",
    "plt.plot(fpr_nb_sub, tpr_nb_sub)\n",
    "\n",
    "plt.xlabel(\"1-Specificity  or False Positive Rate\")\n",
    "plt.ylabel(\"Sensitivity or True Positive Rate\")"
   ]
  },
  {
   "cell_type": "code",
   "execution_count": null,
   "metadata": {},
   "outputs": [],
   "source": []
  }
 ],
 "metadata": {
  "kernelspec": {
   "display_name": "Python 3",
   "language": "python",
   "name": "python3"
  },
  "language_info": {
   "codemirror_mode": {
    "name": "ipython",
    "version": 3
   },
   "file_extension": ".py",
   "mimetype": "text/x-python",
   "name": "python",
   "nbconvert_exporter": "python",
   "pygments_lexer": "ipython3",
   "version": "3.6.4"
  }
 },
 "nbformat": 4,
 "nbformat_minor": 2
}
