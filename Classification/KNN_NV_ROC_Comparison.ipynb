{
 "cells": [
  {
   "cell_type": "markdown",
   "metadata": {},
   "source": [
    "###  KNN, Naive Bayes Classifier, and ROC analysis\n"
   ]
  },
  {
   "cell_type": "code",
   "execution_count": 1,
   "metadata": {},
   "outputs": [],
   "source": [
    "import numpy as np\n",
    "import pylab as plt\n",
    "import pandas as pd\n",
    "from sklearn.model_selection import train_test_split\n",
    "from sklearn.metrics import roc_curve, roc_auc_score \n",
    "from collections import Counter\n",
    "from random import seed\n",
    "from random import randrange\n",
    "from sklearn import feature_selection\n",
    "from sklearn.preprocessing import StandardScaler\n",
    "from sklearn.metrics import classification_report\n",
    "from sklearn.metrics import precision_score\n",
    "from sklearn.metrics import recall_score\n",
    "from sklearn.metrics import accuracy_score\n",
    "from sklearn.metrics import fbeta_score\n",
    "from sklearn.metrics import confusion_matrix\n",
    "from sklearn.feature_selection import VarianceThreshold\n",
    "from sklearn.model_selection import RepeatedKFold\n",
    "from sklearn.linear_model import LogisticRegression\n",
    "from sklearn.feature_selection import SelectKBest\n",
    "from sklearn.feature_selection import f_classif\n",
    "from sklearn.feature_selection import RFE\n",
    "from sklearn.naive_bayes import GaussianNB\n",
    "\n",
    "%matplotlib inline"
   ]
  },
  {
   "cell_type": "markdown",
   "metadata": {},
   "source": [
    "#### 1.First load data and do normalization and remove constant features"
   ]
  },
  {
   "cell_type": "code",
   "execution_count": 2,
   "metadata": {},
   "outputs": [],
   "source": [
    "X_train = np.loadtxt('X_train.csv', delimiter=',', skiprows=1)\n",
    "X_test = np.loadtxt('X_test.csv', delimiter=',', skiprows=1)\n",
    "Y_train = np.loadtxt('y_train.csv', delimiter=',', skiprows=1)[:,1][:,None]\n",
    "\n",
    "rec_arr = np.genfromtxt(\"X_train.csv\", delimiter = \",\", names=True, dtype=None)\n",
    "feature_list = []\n",
    "for i in rec_arr.dtype.names:\n",
    "    feature_list.append(i)\n",
    "feature_list.pop(86)\n",
    "\n",
    "feature_list = np.array(feature_list)\n",
    "\n",
    "# Make an instance of the Model\n",
    "# remove constant features\n",
    "thresholder = VarianceThreshold(threshold=0)\n",
    "X_train = thresholder.fit_transform(X_train)\n",
    "X_test = thresholder.transform(X_test)\n",
    "# normalize the data \n",
    "\n",
    "feature_scaler = StandardScaler()\n",
    "X_train = feature_scaler.fit_transform(X_train)\n",
    "X_test = feature_scaler.transform(X_test)"
   ]
  },
  {
   "cell_type": "markdown",
   "metadata": {},
   "source": [
    "#### 2.Write KNN classifier"
   ]
  },
  {
   "cell_type": "code",
   "execution_count": 3,
   "metadata": {},
   "outputs": [],
   "source": [
    "def knn_classifier(trainX, traint, test_data, K):\n",
    "    # computing distances between the testing data(one row)to all training data\n",
    "    distances = np.sqrt(((trainX - test_data)**2).sum(axis=1)) \n",
    "    # zip the train data distance and the class them below to dy \n",
    "    dy = zip(distances, traint) \n",
    "    # sort the dy bt distance\n",
    "    dy = sorted(dy, key = lambda x: x[0]) \n",
    "    # select K instances of neareast neighbours\n",
    "    k_selected_neighbor = np.asarray(dy[:K]) \n",
    "    classes, counts = np.unique(k_selected_neighbor[:,1], return_counts=True)\n",
    "    prediction = {}\n",
    "    # assign the class of training data to the testing data with the highest ammount\n",
    "    prediction[\"predicted_class\"] = classes[counts.argmax()]\n",
    "    # calculate the prediction score for testing data \n",
    "    if ( len(classes) == 1 and classes[counts.argmax()] == 2.0):\n",
    "        prediction[\"predicted_score\"] = np.hstack( (1.0- (1.0*counts/sum(counts)), 1.0*counts/sum(counts) ) )\n",
    "    elif ( len(classes) == 1 and classes[counts.argmax()] == 1.0):\n",
    "        prediction[\"predicted_score\"] = np.hstack( ( 1.0*counts/sum(counts), 1.0- (1.0*counts/sum(counts)) ) )\n",
    "    else:\n",
    "        prediction[\"predicted_score\"] = 1.0*counts/sum(counts)\n",
    "    return(prediction)"
   ]
  },
  {
   "cell_type": "markdown",
   "metadata": {},
   "source": [
    "#### 3.Split the training data into test and training data for cross validation with ratio 3:7"
   ]
  },
  {
   "cell_type": "code",
   "execution_count": 4,
   "metadata": {},
   "outputs": [
    {
     "name": "stdout",
     "output_type": "stream",
     "text": [
      "Counter({2.0: 73, 1.0: 67})\n",
      "Counter({2.0: 33, 1.0: 27})\n"
     ]
    }
   ],
   "source": [
    "cross_X_train, cross_X_test, cross_Y_train, cross_Y_test = train_test_split(X_train,Y_train, test_size=0.3,random_state=28)\n",
    "ctrain = Counter(cross_Y_train.flatten())\n",
    "ctest =  Counter(cross_Y_test.flatten())\n",
    "print(ctrain)\n",
    "print(ctest)"
   ]
  },
  {
   "cell_type": "markdown",
   "metadata": {},
   "source": [
    "#### 4.Training and predicting the result with different classifiers"
   ]
  },
  {
   "cell_type": "code",
   "execution_count": 5,
   "metadata": {},
   "outputs": [],
   "source": [
    "cross_X_train, cross_Y_train = cross_X_train, cross_Y_train.flatten()\n",
    "cross_X_test, cross_Y_test = cross_X_test, cross_Y_test.flatten()\n",
    "#Create a Gaussian Classifier\n",
    "model = GaussianNB()\n",
    "#cross_priori, cross_stats = nb_train(cross_X_train, cross_Y_train)\n",
    "#cross_y_test_pred, cross_y_test_prob = predict(cross_priori, cross_stats, cross_X_test)\n",
    "\n",
    "model.fit(cross_X_train,cross_Y_train)\n",
    "cross_y_test_pred = model.predict(cross_X_test)\n",
    "\n",
    "\n",
    "cross_y_test_prob = model.predict_proba(cross_X_test)\n",
    "\n",
    "\n",
    "\n",
    "predictions_knn = np.zeros((60, 3))\n",
    "for j,tx in enumerate(cross_X_test):\n",
    "    knn_results = knn_classifier(cross_X_train, cross_Y_train, tx, K = 9)\n",
    "    predictions_knn[j, 0] = knn_results['predicted_class']\n",
    "    predictions_knn[j, 1:] = knn_results['predicted_score']"
   ]
  },
  {
   "cell_type": "markdown",
   "metadata": {},
   "source": [
    "#### 3.Sketch the ROC comparison for KNN and NB classifier on the training data splited before"
   ]
  },
  {
   "cell_type": "code",
   "execution_count": 6,
   "metadata": {},
   "outputs": [
    {
     "data": {
      "text/plain": [
       "Text(0, 0.5, 'Sensitivity or True Positive Rate')"
      ]
     },
     "execution_count": 6,
     "metadata": {},
     "output_type": "execute_result"
    },
    {
     "data": {
      "image/png": "[encoded data removed]",
      "text/plain": [
       "<Figure size 432x288 with 1 Axes>"
      ]
     },
     "metadata": {
      "needs_background": "light"
     },
     "output_type": "display_data"
    }
   ],
   "source": [
    "fpr_nb, tpr_nb, th_nb = roc_curve(cross_Y_test - 1, cross_y_test_prob[:,1])\n",
    "fpr_knn, tpr_knn, th_knn = roc_curve(cross_Y_test-1, predictions_knn[:,2])\n",
    "plt.plot(fpr_knn, tpr_knn, \"r\")\n",
    "plt.plot(fpr_nb, tpr_nb)\n",
    "plt.xlabel(\"1-Specificity  or False Positive Rate\")\n",
    "plt.ylabel(\"Sensitivity or True Positive Rate\")"
   ]
  },
  {
   "cell_type": "code",
   "execution_count": null,
   "metadata": {},
   "outputs": [],
   "source": []
  }
 ],
 "metadata": {
  "kernelspec": {
   "display_name": "Python 3",
   "language": "python",
   "name": "python3"
  },
  "language_info": {
   "codemirror_mode": {
    "name": "ipython",
    "version": 3
   },
   "file_extension": ".py",
   "mimetype": "text/x-python",
   "name": "python",
   "nbconvert_exporter": "python",
   "pygments_lexer": "ipython3",
   "version": "3.7.2"
  }
 },
 "nbformat": 4,
 "nbformat_minor": 2
}
