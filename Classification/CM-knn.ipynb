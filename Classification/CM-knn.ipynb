{
 "cells": [
  {
   "cell_type": "markdown",
   "metadata": {},
   "source": [
    "###  KNN, Naive Bayes Classifier, and ROC/AUC analysis\n",
    "\n",
    "- #### Aims:\n",
    "    - ##### Implement a KNN classifier\n",
    "    - ##### Implement a Naive Bayes classifier\n",
    "    - ##### Compare the two classifiers with ROC and AUC"
   ]
  },
  {
   "cell_type": "code",
   "execution_count": 1,
   "metadata": {},
   "outputs": [],
   "source": [
    "import numpy as np\n",
    "import pylab as plt\n",
    "from sklearn.model_selection import train_test_split\n",
    "from sklearn.metrics import roc_curve, roc_auc_score \n",
    "from collections import Counter\n",
    "\n",
    "from sklearn.metrics import classification_report\n",
    "from sklearn.metrics import precision_score\n",
    "from sklearn.metrics import recall_score\n",
    "from sklearn.metrics import accuracy_score\n",
    "from sklearn.metrics import fbeta_score\n",
    "from sklearn.metrics import confusion_matrix\n",
    "%matplotlib inline"
   ]
  },
  {
   "cell_type": "markdown",
   "metadata": {},
   "source": [
    "#### Task 1:  Implement a KNN classifier\n",
    "\n",
    "\n",
    "##### Task 1.1: Load classification data\n",
    "Download `trainx.csv` and `testx.csv` from Moodle. In trainx.csv, each row corresponds to an instance. The first two columns are the values for two features and the third is the class label. The same format is used in `testx.csv`. Load these datasets into python (numpy.loadtxt) and create an X matrix consisting of the first two columns and a t vector as the last one. Do the same for the test data so you have four objects: $\\mathbf{X}$, $\\mathbf{X}_{test}$, $\\mathbf{t}$ and $\\mathbf{t}_{test}$."
   ]
  },
  {
   "cell_type": "code",
   "execution_count": 2,
   "metadata": {},
   "outputs": [
    {
     "name": "stdout",
     "output_type": "stream",
     "text": [
      "(200, 4)\n"
     ]
    },
    {
     "name": "stderr",
     "output_type": "stream",
     "text": [
      "C:\\Users\\yingt\\anaconda3\\lib\\site-packages\\sklearn\\utils\\validation.py:73: DataConversionWarning: A column-vector y was passed when a 1d array was expected. Please change the shape of y to (n_samples, ), for example using ravel().\n",
      "  return f(**kwargs)\n",
      "C:\\Users\\yingt\\anaconda3\\lib\\site-packages\\sklearn\\feature_selection\\_univariate_selection.py:114: UserWarning: Features [85] are constant.\n",
      "  warnings.warn(\"Features %s are constant.\" % constant_features_idx,\n",
      "C:\\Users\\yingt\\anaconda3\\lib\\site-packages\\sklearn\\feature_selection\\_univariate_selection.py:116: RuntimeWarning: invalid value encountered in true_divide\n",
      "  f = msb / msw\n"
     ]
    }
   ],
   "source": [
    "X_train = np.loadtxt('X_train.csv', delimiter=',', skiprows=1)\n",
    "X_test = np.loadtxt('X_test.csv', delimiter=',', skiprows=1)\n",
    "Y_train = np.loadtxt('y_train.csv', delimiter=',', skiprows=1)[:,1][:,None]\n",
    "from sklearn.decomposition import PCA\n",
    "from sklearn import feature_selection\n",
    "\n",
    "# Make an instance of the Model\n",
    "from sklearn.preprocessing import StandardScaler\n",
    "feature_scaler = StandardScaler()\n",
    "X_train = feature_scaler.fit_transform(X_train)\n",
    "X_test = feature_scaler.transform(X_test)\n",
    "\n",
    "fs=feature_selection.SelectPercentile(percentile=3)\n",
    "X_train=fs.fit_transform(X_train,Y_train)\n",
    "X_test = fs.transform(X_test)\n",
    "print(X_train.shape)\n",
    "    "
   ]
  },
  {
   "cell_type": "code",
   "execution_count": 3,
   "metadata": {},
   "outputs": [],
   "source": [
    "cross_X_train, cross_X_test, cross_Y_train, cross_Y_test = train_test_split(X_train,Y_train, test_size=0.5,random_state=1234)"
   ]
  },
  {
   "cell_type": "code",
   "execution_count": 4,
   "metadata": {},
   "outputs": [],
   "source": [
    "ctrain = Counter(cross_Y_train.flatten())"
   ]
  },
  {
   "cell_type": "code",
   "execution_count": 5,
   "metadata": {},
   "outputs": [
    {
     "data": {
      "text/plain": [
       "Counter({1.0: 50, 2.0: 50})"
      ]
     },
     "execution_count": 5,
     "metadata": {},
     "output_type": "execute_result"
    }
   ],
   "source": [
    "ctrain"
   ]
  },
  {
   "cell_type": "code",
   "execution_count": 6,
   "metadata": {},
   "outputs": [],
   "source": [
    "ctest = Counter(cross_Y_test.flatten())"
   ]
  },
  {
   "cell_type": "code",
   "execution_count": 7,
   "metadata": {},
   "outputs": [
    {
     "data": {
      "text/plain": [
       "Counter({1.0: 44, 2.0: 56})"
      ]
     },
     "execution_count": 7,
     "metadata": {},
     "output_type": "execute_result"
    }
   ],
   "source": [
    "ctest"
   ]
  },
  {
   "cell_type": "markdown",
   "metadata": {},
   "source": [
    "##### Task 1.2: Write a KNN function for a single test example (a row)\n",
    "Implement a KNN function that takes a single test example and a value of K and returns a classification. Your function should find the K closest (see below) training points to the test point and return the majority class\n",
    "amongst these training points.\n",
    "\n",
    "If your training data is in a numpy array with 100 rows and 2 columns, then the distance between a test point and the ith row is given by:\n",
    "\n",
    "`sq_diff = (test_row - trainx[i,:])**2\n",
    "dist = np.sqrt(sq_diff.sum())`\n",
    "\n",
    "where test_row is a row of $\\mathbf{X}_{test}$.\n",
    "The first line creates a new vector which holds the squared difference of the two pairs of values. The second line takes the sum of these differences and then takes the square root. This is computing the Euclidean distance. Other distance metrics could also be used.\n",
    "\n",
    "The `zip`, `sorted` and `numpy`'s `unique` can be helpful for finding the nearest neighbours.\n",
    "\n",
    "Make sure your function returns both the predicted class and predicted score. For KNN, the score can be the percentage of votes for each class. "
   ]
  },
  {
   "cell_type": "code",
   "execution_count": 8,
   "metadata": {},
   "outputs": [],
   "source": [
    "def knn_classifier(trainX, traint, test_data, K):\n",
    "    distances = np.sqrt( ((trainX - test_data)**2).sum(axis=1)) # computing distances from the testing data to all training data\n",
    "    dc = zip(distances, traint) \n",
    "    dc = sorted(dc, key = lambda x: x[0]) # sort distance \n",
    "    selected_neighbor = np.asarray(dc[:K]) # select K number of neareast neighbours\n",
    "    classes, counts = np.unique(selected_neighbor[:,1], return_counts=True)\n",
    "    prediction = {}\n",
    "    prediction[\"predicted_class\"] = classes[counts.argmax()]\n",
    "    \n",
    "    if ( len(classes) == 1 and classes[counts.argmax()] == 2.0):\n",
    "        prediction[\"predicted_score\"] = np.hstack( (1.0- (1.0*counts/sum(counts)), 1.0*counts/sum(counts) ) )\n",
    "    elif ( len(classes) == 1 and classes[counts.argmax()] == 1.0):\n",
    "        prediction[\"predicted_score\"] = np.hstack( ( 1.0*counts/sum(counts), 1.0- (1.0*counts/sum(counts)) ) )\n",
    "    else:\n",
    "        prediction[\"predicted_score\"] = 1.0*counts/sum(counts)\n",
    "    return(prediction)"
   ]
  },
  {
   "cell_type": "markdown",
   "metadata": {},
   "source": [
    "##### Task 1.4: Plot Accuracy vs K \n",
    "\n",
    "Test your function with a range of possible `K`, and compare accuracies on all test data. Plot the results."
   ]
  },
  {
   "cell_type": "code",
   "execution_count": 9,
   "metadata": {},
   "outputs": [
    {
     "name": "stdout",
     "output_type": "stream",
     "text": [
      "24\n",
      "0.87\n"
     ]
    },
    {
     "data": {
      "text/plain": [
       "Text(0, 0.5, 'Accuracy')"
      ]
     },
     "execution_count": 9,
     "metadata": {},
     "output_type": "execute_result"
    },
    {
     "data": {
      "image/png": "[encoded data removed]",
      "text/plain": [
       "<Figure size 432x288 with 1 Axes>"
      ]
     },
     "metadata": {
      "needs_background": "light"
     },
     "output_type": "display_data"
    }
   ],
   "source": [
    "Kvals = np.arange(1,100,1)\n",
    "accuracy = []\n",
    "\n",
    "for k in Kvals:\n",
    "    correct = 0\n",
    "    for i,row in enumerate(cross_X_test):\n",
    "        c = knn_classifier(cross_X_train,cross_Y_train,row,K=k)[\"predicted_class\"]\n",
    "        if c == cross_Y_test[i]:\n",
    "            correct += 1\n",
    "    accuracy.append(1.0*correct / (1.0*len(cross_X_test)))\n",
    "print(np.array(accuracy).argmax())\n",
    "print(max(accuracy))\n",
    "\n",
    "plt.figure()\n",
    "plt.plot(Kvals,accuracy)\n",
    "plt.xlabel(\"K\")\n",
    "plt.ylabel(\"Accuracy\")"
   ]
  },
  {
   "cell_type": "markdown",
   "metadata": {},
   "source": [
    "##### Task 1.3: Test with a test point"
   ]
  },
  {
   "cell_type": "code",
   "execution_count": 10,
   "metadata": {},
   "outputs": [],
   "source": [
    "y_prediction = []\n",
    "for i in range(len(X_test)):\n",
    "    c = knn_classifier(X_train,Y_train,X_test[i,:],K=24)\n",
    "    y_prediction.append(c[\"predicted_class\"])\n",
    "y_prediction = np.array(y_prediction)"
   ]
  },
  {
   "cell_type": "code",
   "execution_count": 11,
   "metadata": {},
   "outputs": [
    {
     "name": "stdout",
     "output_type": "stream",
     "text": [
      "[[  0.   2.]\n",
      " [  1.   2.]\n",
      " [  2.   2.]\n",
      " ...\n",
      " [795.   1.]\n",
      " [796.   2.]\n",
      " [797.   2.]]\n"
     ]
    }
   ],
   "source": [
    "test_header = \"Id,EpiOrStroma\"\n",
    "n_points = X_test.shape[0]\n",
    "y_pred_pp = np.ones((n_points, 2))\n",
    "y_pred_pp[:, 0] = range(n_points)\n",
    "y_pred_pp[:, 1] = y_prediction[:,0]\n",
    "print(y_pred_pp)\n",
    "\n",
    "np.savetxt('my_submission_knn_cl.csv', y_pred_pp, fmt='%d', delimiter=\",\",header=test_header, comments=\"\")"
   ]
  },
  {
   "cell_type": "markdown",
   "metadata": {
    "collapsed": true
   },
   "source": [
    "#### Task 2:  Implement a Naive Bayes classifier\n",
    "\n",
    "##### Task 2.1: Write your function to train a Gaussian Naive Bayes classifier\n",
    "We will use Gaussian distributions for each class. For each class, we fit a Gaussian to each dimension (by compute the mean and variance). The prior for each class will be the proportion of training data in that class."
   ]
  },
  {
   "cell_type": "markdown",
   "metadata": {},
   "source": [
    "##### Task 2.2: Write your function to make prediction on testX with the trained Gaussian Naive Bayes classifier \n",
    "\n",
    "Computing the likelihood for each class and multiplying by the prior, and normalise. Make sure you function also returns the probability of assigning the test data to each class."
   ]
  },
  {
   "cell_type": "code",
   "execution_count": 12,
   "metadata": {},
   "outputs": [],
   "source": [
    "def nb_train(X_train, y_train):\n",
    "    priori = dict()\n",
    "    counter = Counter(y_train)\n",
    "    for label, counts in counter.items():\n",
    "        priori[label] = counts / len(y_train)\n",
    "    stats = dict()\n",
    "    for label in set(y_train):\n",
    "        indices = np.where(y_train == label)[0]\n",
    "        stats[label] = dict()\n",
    "        stats[label]['mean'] = X_train[indices].mean(axis=0)\n",
    "        stats[label]['var'] = X_train[indices].var(axis=0)\n",
    "    return priori, stats"
   ]
  },
  {
   "cell_type": "code",
   "execution_count": 13,
   "metadata": {},
   "outputs": [],
   "source": [
    "def nb_predict(priori, stats, sample):\n",
    "    post = {k: v for k, v in priori.items()}\n",
    "    for label in priori.keys():\n",
    "        mean = stats[label]['mean']\n",
    "        var = stats[label]['var']\n",
    "        p = 1. / (np.sqrt(2 * np.pi) * var) * np.exp(- (sample - mean) ** 2 / (2 * var ** 2))\n",
    "        post[label] *= np.prod(p)\n",
    "\n",
    "    s = sum(post.values())\n",
    "    for label in post:\n",
    "        post[label] /= s\n",
    "    pred = max(post, key=lambda x: post[x])\n",
    "    return post, pred\n",
    "\n",
    "\n",
    "def predict(priori, stats, data):\n",
    "    p = [nb_predict(priori, stats, sample) for sample in data]\n",
    "    p_label = np.array([item[1] for item in p])\n",
    "    prob = np.array([item[0][2.] for item in p])\n",
    "    return p_label, prob"
   ]
  },
  {
   "cell_type": "markdown",
   "metadata": {},
   "source": [
    "##### Task 2.3:  Make predictions\n",
    "Loop through the test points, "
   ]
  },
  {
   "cell_type": "code",
   "execution_count": 14,
   "metadata": {},
   "outputs": [],
   "source": [
    "cross_X_train, cross_Y_train = cross_X_train, cross_Y_train.flatten()\n",
    "cross_X_test, cross_Y_test = cross_X_test, cross_Y_test.flatten()\n"
   ]
  },
  {
   "cell_type": "code",
   "execution_count": 15,
   "metadata": {},
   "outputs": [],
   "source": [
    "cross_priori, cross_stats = nb_train(cross_X_train, cross_Y_train)"
   ]
  },
  {
   "cell_type": "markdown",
   "metadata": {},
   "source": [
    "Compute the accuracy of the classifier. Train accuracy & test accuracy."
   ]
  },
  {
   "cell_type": "code",
   "execution_count": 16,
   "metadata": {},
   "outputs": [
    {
     "data": {
      "text/plain": [
       "0.84"
      ]
     },
     "execution_count": 16,
     "metadata": {},
     "output_type": "execute_result"
    }
   ],
   "source": [
    "cross_y_test_pred, cross_y_test_prob = predict(cross_priori, cross_stats, cross_X_test)\n",
    "np.mean(cross_Y_test == cross_y_test_pred)"
   ]
  },
  {
   "cell_type": "code",
   "execution_count": 17,
   "metadata": {},
   "outputs": [
    {
     "name": "stdout",
     "output_type": "stream",
     "text": [
      "(798,)\n"
     ]
    }
   ],
   "source": [
    "X_train,Y_train = X_train,Y_train.flatten()\n",
    "priori, stats = nb_train(X_train,Y_train)\n",
    "y_test_pred, y_test_prob = predict(priori, stats,X_test)\n",
    "print(y_test_pred.shape)"
   ]
  },
  {
   "cell_type": "code",
   "execution_count": 18,
   "metadata": {},
   "outputs": [
    {
     "name": "stdout",
     "output_type": "stream",
     "text": [
      "798\n",
      "[[  0.   2.]\n",
      " [  1.   2.]\n",
      " [  2.   2.]\n",
      " ...\n",
      " [795.   1.]\n",
      " [796.   2.]\n",
      " [797.   2.]]\n"
     ]
    }
   ],
   "source": [
    "test_header = \"Id,EpiOrStroma\"\n",
    "n_points = X_test.shape[0]\n",
    "print(X_test.shape[0])\n",
    "y_pred_pp_b = np.ones((n_points, 2))\n",
    "y_pred_pp_b[:, 0] = range(n_points)\n",
    "y_pred_pp_b[:, 1] = y_test_pred\n",
    "print(y_pred_pp_b)\n",
    "np.savetxt('my_submission_b_cl.csv', y_pred_pp_b, fmt='%d', delimiter=\",\",header=test_header, comments=\"\")"
   ]
  },
  {
   "cell_type": "markdown",
   "metadata": {},
   "source": [
    "#### Task 3:  Comparing classifiers with ROC and AUC\n",
    "\n",
    "#### Task 3.1: Plot the ROC curve for your Gaussian Naive Bayes classifier. \n",
    "\n",
    "In this task you can use the `roc_curve` and `roc_auc_score` function from `sklearn`\n",
    "\n",
    "Details of `roc_curve` http://scikit-learn.org/stable/modules/generated/sklearn.metrics.roc_curve.html\n",
    "Details of `roc_auc_score` http://scikit-learn.org/stable/modules/generated/sklearn.metrics.roc_auc_score.html\n"
   ]
  },
  {
   "cell_type": "markdown",
   "metadata": {},
   "source": [
    "#### Task 3:  Comparing classifiers with ROC and AUC\n",
    "\n",
    "#### Task 3.1: Plot the ROC curve for your Gaussian Naive Bayes classifier. \n",
    "\n",
    "In this task you can use the `roc_curve` and `roc_auc_score` function from `sklearn`\n",
    "\n",
    "Details of `roc_curve` http://scikit-learn.org/stable/modules/generated/sklearn.metrics.roc_curve.html\n",
    "Details of `roc_auc_score` http://scikit-learn.org/stable/modules/generated/sklearn.metrics.roc_auc_score.html\n"
   ]
  },
  {
   "cell_type": "code",
   "execution_count": 19,
   "metadata": {
    "scrolled": true
   },
   "outputs": [
    {
     "data": {
      "text/plain": [
       "Text(0, 0.5, 'Sensitivity or True Positive Rate')"
      ]
     },
     "execution_count": 19,
     "metadata": {},
     "output_type": "execute_result"
    },
    {
     "data": {
      "image/png": "[encoded data removed]",
      "text/plain": [
       "<Figure size 432x288 with 1 Axes>"
      ]
     },
     "metadata": {
      "needs_background": "light"
     },
     "output_type": "display_data"
    }
   ],
   "source": [
    "from sklearn.metrics import roc_curve, roc_auc_score \n",
    "fpr_nb, tpr_nb, th_nb = roc_curve(cross_Y_test - 1, cross_y_test_prob)\n",
    "\n",
    "plt.plot(fpr_nb, tpr_nb)\n",
    "plt.xlabel(\"1-Specificity  or False Positive Rate\")\n",
    "plt.ylabel(\"Sensitivity or True Positive Rate\")"
   ]
  },
  {
   "cell_type": "markdown",
   "metadata": {},
   "source": [
    "##### Task 3.2: Make predictions with KNN (K = 3)"
   ]
  },
  {
   "cell_type": "code",
   "execution_count": 20,
   "metadata": {},
   "outputs": [],
   "source": [
    "predictions_knn = np.zeros((100, 3))\n",
    "for j,tx in enumerate(cross_X_test):\n",
    "    knn_results = knn_classifier(cross_X_train, cross_Y_train, tx, K = 24)\n",
    "    predictions_knn[j, 0] = knn_results['predicted_class']\n",
    "    predictions_knn[j, 1:] = knn_results['predicted_score']"
   ]
  },
  {
   "cell_type": "markdown",
   "metadata": {},
   "source": [
    "##### Task 3.3: Overlay the two ROC curves"
   ]
  },
  {
   "cell_type": "code",
   "execution_count": 21,
   "metadata": {},
   "outputs": [
    {
     "data": {
      "text/plain": [
       "Text(0, 0.5, 'Sensitivity or True Positive Rate')"
      ]
     },
     "execution_count": 21,
     "metadata": {},
     "output_type": "execute_result"
    },
    {
     "data": {
      "image/png": "[encoded data removed]",
      "text/plain": [
       "<Figure size 432x288 with 1 Axes>"
      ]
     },
     "metadata": {
      "needs_background": "light"
     },
     "output_type": "display_data"
    }
   ],
   "source": [
    "fpr_knn, tpr_knn, th_knn = roc_curve(cross_Y_test-1, predictions_knn[:,2])\n",
    "\n",
    "plt.plot(fpr_knn, tpr_knn, \"r\")\n",
    "plt.plot(fpr_nb, tpr_nb)\n",
    "plt.xlabel(\"1-Specificity  or False Positive Rate\")\n",
    "plt.ylabel(\"Sensitivity or True Positive Rate\")"
   ]
  },
  {
   "cell_type": "markdown",
   "metadata": {},
   "source": [
    "##### Task 3.4:  Compute the AUC and generate confusion matrix for the two classifier \n",
    "\n",
    "AUCs range between 0.5 and 1. Higher AUC indicates better classifier"
   ]
  },
  {
   "cell_type": "code",
   "execution_count": 22,
   "metadata": {},
   "outputs": [
    {
     "name": "stdout",
     "output_type": "stream",
     "text": [
      "0.908887987012987\n",
      "0.9005681818181819\n"
     ]
    }
   ],
   "source": [
    "auc_knn = roc_auc_score(cross_Y_test-1, predictions_knn[:,2])\n",
    "auc_nb = roc_auc_score(cross_Y_test - 1, cross_y_test_prob)\n",
    "print(auc_knn)\n",
    "print(auc_nb)"
   ]
  },
  {
   "cell_type": "code",
   "execution_count": 23,
   "metadata": {},
   "outputs": [],
   "source": [
    "def evaluation_summary(description, predictions, true_labels):\n",
    "  print(\"Evaluation for: \" + description)\n",
    "  precision = precision_score(predictions, true_labels, average='macro')\n",
    "  recall = recall_score(predictions, true_labels, average='macro')\n",
    "  accuracy = accuracy_score(predictions, true_labels)\n",
    "  f1 = fbeta_score(predictions, true_labels, 1, average='macro') #1 means f_1 measure\n",
    "  print(\"Classifier '%s' has Acc=%0.3f P=%0.3f R=%0.3f F1=%0.3f\" % (description,accuracy,precision,recall,f1))\n",
    "  print(classification_report(predictions, true_labels, digits=3))\n"
   ]
  },
  {
   "cell_type": "code",
   "execution_count": 24,
   "metadata": {},
   "outputs": [],
   "source": [
    "def plot_confusion_matrix(y_true, y_pred,\n",
    "                          normalize=False,\n",
    "                          title=None,\n",
    "                          cmap=plt.cm.PuRd):\n",
    "    \"\"\"\n",
    "    This function prints and plots the confusion matrix.\n",
    "    Normalization can be applied by setting `normalize=True`.\n",
    "    \"\"\"\n",
    "    if not title:\n",
    "        if normalize:\n",
    "            title = 'Normalized confusion matrix'\n",
    "        else:\n",
    "            title = 'Confusion matrix, without normalization'\n",
    "\n",
    "    # Compute confusion matrix\n",
    "    cm = confusion_matrix(y_true, y_pred)\n",
    "    # Only use the labels that appear in the data\n",
    "#     classes = classes[unique_labels(y_true, y_pred)]\n",
    "    if normalize:\n",
    "        cm = cm.astype('float') / cm.sum(axis=1)[:, np.newaxis]\n",
    "        print(\"Normalized confusion matrix\")\n",
    "    else:\n",
    "        print('Confusion matrix, without normalization')\n",
    "\n",
    "    print(cm)\n",
    "\n",
    "    fig, ax = plt.subplots(figsize=(12,10))\n",
    "    im = ax.imshow(cm, interpolation='nearest', cmap=cmap)\n",
    "    ax.figure.colorbar(im, ax=ax)\n",
    "    # We want to show all ticks...\n",
    "    ax.set(xticks=np.arange(cm.shape[1]),\n",
    "           yticks=np.arange(cm.shape[0]),\n",
    "           # ... and label them with the respective list entries\n",
    "           title=title,\n",
    "           ylabel='True label',\n",
    "           xlabel='Predicted label')\n",
    "\n",
    "    # Rotate the tick labels and set their alignment.\n",
    "    plt.setp(ax.get_xticklabels(), rotation=45, ha=\"right\",\n",
    "             rotation_mode=\"anchor\")\n",
    "\n",
    "    # Loop over data dimensions and create text annotations.\n",
    "    fmt = '.2f' if normalize else 'd'\n",
    "    thresh = cm.max() / 2.\n",
    "    for i in range(cm.shape[0]):\n",
    "        for j in range(cm.shape[1]):\n",
    "            ax.text(j, i, format(cm[i, j], fmt),\n",
    "                    ha=\"center\", va=\"center\",\n",
    "                    color=\"white\" if cm[i, j] > thresh else \"black\")\n",
    "    fig.tight_layout()\n",
    "    return ax\n",
    "\n"
   ]
  },
  {
   "cell_type": "code",
   "execution_count": 25,
   "metadata": {},
   "outputs": [
    {
     "name": "stdout",
     "output_type": "stream",
     "text": [
      "Evaluation for: description\n",
      "Classifier 'description' has Acc=0.840 P=0.840 R=0.837 F1=0.838\n",
      "              precision    recall  f1-score   support\n",
      "\n",
      "         1.0      0.841     0.804     0.822        46\n",
      "         2.0      0.839     0.870     0.855        54\n",
      "\n",
      "    accuracy                          0.840       100\n",
      "   macro avg      0.840     0.837     0.838       100\n",
      "weighted avg      0.840     0.840     0.840       100\n",
      "\n",
      "Confusion matrix, without normalization\n",
      "[[37  7]\n",
      " [ 9 47]]\n"
     ]
    },
    {
     "name": "stderr",
     "output_type": "stream",
     "text": [
      "C:\\Users\\yingt\\anaconda3\\lib\\site-packages\\sklearn\\utils\\validation.py:68: FutureWarning: Pass beta=1 as keyword args. From version 0.25 passing these as positional arguments will result in an error\n",
      "  warnings.warn(\"Pass {} as keyword args. From version 0.25 \"\n"
     ]
    },
    {
     "data": {
      "text/plain": [
       "<matplotlib.axes._subplots.AxesSubplot at 0x1d3f6d37550>"
      ]
     },
     "execution_count": 25,
     "metadata": {},
     "output_type": "execute_result"
    },
    {
     "data": {
      "image/png": "[encoded data removed]",
      "text/plain": [
       "<Figure size 864x720 with 2 Axes>"
      ]
     },
     "metadata": {
      "needs_background": "light"
     },
     "output_type": "display_data"
    }
   ],
   "source": [
    "cross_X_train, cross_Y_train = cross_X_train, cross_Y_train.flatten()\n",
    "cross_X_test, cross_Y_test = cross_X_test, cross_Y_test.flatten()\n",
    "cross_priori, cross_stats = nb_train(cross_X_train, cross_Y_train)\n",
    "cross_y_test_pred, cross_y_test_prob = predict(cross_priori, cross_stats, cross_X_test)\n",
    "evaluation_summary(\"description\", cross_y_test_pred, cross_Y_test)\n",
    "plot_confusion_matrix(cross_Y_test, cross_y_test_pred,normalize=False,\n",
    "                          title=None,\n",
    "                          cmap=plt.cm.PuRd)"
   ]
  },
  {
   "cell_type": "code",
   "execution_count": null,
   "metadata": {},
   "outputs": [],
   "source": []
  }
 ],
 "metadata": {
  "kernelspec": {
   "display_name": "Python 3",
   "language": "python",
   "name": "python3"
  },
  "language_info": {
   "codemirror_mode": {
    "name": "ipython",
    "version": 3
   },
   "file_extension": ".py",
   "mimetype": "text/x-python",
   "name": "python",
   "nbconvert_exporter": "python",
   "pygments_lexer": "ipython3",
   "version": "3.8.3"
  }
 },
 "nbformat": 4,
 "nbformat_minor": 2
}
