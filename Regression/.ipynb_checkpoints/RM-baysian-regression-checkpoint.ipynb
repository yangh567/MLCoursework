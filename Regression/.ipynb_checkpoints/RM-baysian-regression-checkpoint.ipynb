{
 "cells": [
  {
   "cell_type": "markdown",
   "metadata": {},
   "source": [
    "### Week 5: Bayesian linear regression lab\n",
    "\n",
    " * #### Aims\n",
    "     - To implement Bayesian inference over the parameters of the linear model for the Olympic data.\n",
    "     - To get more experience in the use of Bayesian models for regression, in particular predictions.\n",
    "     - Practise model selection with marginal likelihood"
   ]
  },
  {
   "cell_type": "markdown",
   "metadata": {},
   "source": [
    "#### Task 1:  Bayesian treatment of the Olympic regression problem\n",
    "In this task, we will perform a Bayesian treatment of the Olympic regression problem. \n",
    "\n",
    "#####  We start by loading the data and rescaling it to aid with numerics."
   ]
  },
  {
   "cell_type": "code",
   "execution_count": 1,
   "metadata": {},
   "outputs": [],
   "source": [
    "import numpy as np\n",
    "import pylab as plt\n",
    "%matplotlib inline\n",
    "np.random.seed(1)\n",
    "\n",
    "\n",
    "X_train = np.loadtxt('X_train.csv', delimiter=',', skiprows=1)\n",
    "X_test = np.loadtxt('X_test.csv', delimiter=',', skiprows=1)\n",
    "Y_train = np.loadtxt('y_train.csv', delimiter=',', skiprows=1)[:,1][:,None]\n",
    "\n",
    "MYCT = X_train[:,0][:,None]\n",
    "MMIN = X_train[:,1][:,None]\n",
    "MMAX = X_train[:,2][:,None]\n",
    "CACH = X_train[:,3][:,None]\n",
    "CHMIN = X_train[:,4][:,None]\n",
    "CHMAX = X_train[:,5][:,None]"
   ]
  },
  {
   "cell_type": "markdown",
   "metadata": {},
   "source": [
    "##### Task 1.1: Step up prior, $p(\\mathbf{w})$\n",
    "\n",
    "We'll define a Gaussian prior over $\\mathbf{w}$, with mean $\\mathbf{0}$ and covariance $\\left[\\begin{array}{cc} 100& 0\\\\0 & 5\\end{array}\\right]$. We'll also fix $\\sigma^2=2$."
   ]
  },
  {
   "cell_type": "code",
   "execution_count": 163,
   "metadata": {},
   "outputs": [
    {
     "name": "stdout",
     "output_type": "stream",
     "text": [
      "(6, 6)\n",
      "-8174279.99999999\n"
     ]
    }
   ],
   "source": [
    "prior_mean = np.zeros((6,1)) # vector of mean \n",
    "prior_cov = np.array([[100,8,100,6,100,9],[4,5,5,5,6,5],[101,32,101,21,101,19],[9,10,1,10,100,10],[102,0,102,0,102,0],[0,20,0,20,100,10]]) # covariance matrix\n",
    "print(prior_cov.shape)\n",
    "print(np.linalg.det(prior_cov))\n",
    "sig_sq = 2 # variance of the additive noise "
   ]
  },
  {
   "cell_type": "markdown",
   "metadata": {},
   "source": [
    "##### Task 1.2: Let's see what this prior means by sampling some $\\mathbf{w}$ vectors from it and plotting the models with all features\n",
    "Use `numpy`'s `multivariate_normal` to generate samples from a multivariate Gaussian \n",
    "https://docs.scipy.org/doc/numpy-1.15.1/reference/generated/numpy.random.multivariate_normal.html"
   ]
  },
  {
   "cell_type": "code",
   "execution_count": 164,
   "metadata": {},
   "outputs": [
    {
     "name": "stderr",
     "output_type": "stream",
     "text": [
      "c:\\users\\asus\\appdata\\local\\programs\\python\\python37-32\\lib\\site-packages\\ipykernel_launcher.py:1: RuntimeWarning: covariance is not positive-semidefinite.\n",
      "  \"\"\"Entry point for launching an IPython kernel.\n"
     ]
    },
    {
     "data": {
      "text/plain": [
       "[<matplotlib.lines.Line2D at 0x161214d0>,\n",
       " <matplotlib.lines.Line2D at 0x16121510>,\n",
       " <matplotlib.lines.Line2D at 0x16121570>,\n",
       " <matplotlib.lines.Line2D at 0x161215d0>,\n",
       " <matplotlib.lines.Line2D at 0x16121630>,\n",
       " <matplotlib.lines.Line2D at 0x161216d0>,\n",
       " <matplotlib.lines.Line2D at 0x16121730>,\n",
       " <matplotlib.lines.Line2D at 0x16121790>,\n",
       " <matplotlib.lines.Line2D at 0x161217f0>,\n",
       " <matplotlib.lines.Line2D at 0x161216b0>]"
      ]
     },
     "execution_count": 164,
     "metadata": {},
     "output_type": "execute_result"
    },
    {
     "data": {
      "image/png": "[encoded data removed]",
      "text/plain": [
       "<Figure size 432x288 with 1 Axes>"
      ]
     },
     "metadata": {
      "needs_background": "light"
     },
     "output_type": "display_data"
    }
   ],
   "source": [
    "w_samp = np.random.multivariate_normal(prior_mean.flatten(),prior_cov,10) # sampling from multivariate Gaussian distribution \n",
    "plt.figure()\n",
    "plt.plot(X_train,Y_train,'ro') # plot data \n",
    "plot_x = X_test # generate new x for plotting the sampled model, e.g. you need construct design matrix for any new x\n",
    "plt.plot(np.dot(w_samp,plot_x.T).T)"
   ]
  },
  {
   "cell_type": "markdown",
   "metadata": {},
   "source": [
    "##### Task 1.4: Compute the posterior and draw samples from it\n",
    "\n",
    "First let's write functions to construct polynomial design matrix, and to compute posterior mean and covariance \n",
    "$$\\mathbf{\\Sigma} = \\left(\\frac{1}{\\sigma^2}\\mathbf{X}^{T}\\mathbf{X} + \\mathbf{S}^{-1}\\right)^{-1}$$\n",
    "$$\\boldsymbol\\mu = \\frac{1}{\\sigma^2}\\mathbf{\\Sigma}\\mathbf{X}^{T}\\mathbf{t}$$\n",
    "where $\\mathbf{S}$ is the covariance matrix of the prior $p(\\mathbf{w})$"
   ]
  },
  {
   "cell_type": "code",
   "execution_count": 165,
   "metadata": {},
   "outputs": [],
   "source": [
    "def compute_post_cov(X, prior_cov, sig_sq): # your own function to compute posterior mean\n",
    "    return(np.linalg.inv((1.0/sig_sq)*np.dot(X.T,X) + np.linalg.inv(prior_cov)) )\n",
    " \n",
    "def compute_post_mean(post_cov, sig_sq, X, t): # your own function to compute posterior covariance\n",
    "    return(np.dot(post_cov,(1.0/sig_sq)*np.dot(X.T,t) ) )"
   ]
  },
  {
   "cell_type": "code",
   "execution_count": 166,
   "metadata": {},
   "outputs": [
    {
     "data": {
      "text/plain": [
       "[<matplotlib.lines.Line2D at 0x1617ab50>]"
      ]
     },
     "execution_count": 166,
     "metadata": {},
     "output_type": "execute_result"
    },
    {
     "data": {
      "image/png": "[encoded data removed]",
      "text/plain": [
       "<Figure size 432x288 with 1 Axes>"
      ]
     },
     "metadata": {
      "needs_background": "light"
     },
     "output_type": "display_data"
    }
   ],
   "source": [
    "X = X_train # construct design matrix\n",
    "post_cov = compute_post_cov(X, prior_cov, sig_sq) # compute posterior mean \n",
    "post_mean = compute_post_mean(post_cov,sig_sq,X,Y_train) # compute posterior covariance \n",
    "\n",
    "plt.figure()\n",
    "plt.title('data and posterior samples') \n",
    "w_samp = np.random.multivariate_normal(post_mean.flatten(),post_cov,1) # draw some samples\n",
    "plt.plot(X_train,Y_train,'ro')\n",
    "plt.plot(np.dot(w_samp,X_test.T).T,'b') # plot the sampled lines, \n",
    "                                               # only need 2 points to plot a straight line\n",
    "plt.plot(np.dot(X_test,post_mean),'k',linewidth=3) # plot the posterior mean prediction, \n",
    "                                                    # only need 2 points to plot a straight line \n",
    "\n"
   ]
  },
  {
   "cell_type": "markdown",
   "metadata": {},
   "source": [
    "#### Task 2: We'll now look at predictions\n",
    "\n",
    "##### Task 2.1: Functions for posterior prediction\n",
    "\n",
    "$$p(t_{new} | \\mathbf{X},\\mathbf{t},\\mathbf{x}_{new},\\sigma^2) = {\\cal N}(\\mathbf{x}_{new}^{T}\\boldsymbol\\mu,\\sigma^2 + \\mathbf{x}_{new}^{T}  \\mathbf{\\Sigma} \\mathbf{x}_{new})$$"
   ]
  },
  {
   "cell_type": "code",
   "execution_count": 168,
   "metadata": {},
   "outputs": [],
   "source": [
    "testX = X_test # generate some test data\n",
    "\n",
    "pred_mean = np.dot(testX, post_mean) # compute predictive mean\n",
    "pred_var = sig_sq + np.diag(np.dot(testX,np.dot((post_cov),testX.T))) # compute predictive variance "
   ]
  },
  {
   "cell_type": "markdown",
   "metadata": {},
   "source": [
    "#### Task 2.2: Plot error bars "
   ]
  },
  {
   "cell_type": "code",
   "execution_count": 183,
   "metadata": {},
   "outputs": [
    {
     "name": "stdout",
     "output_type": "stream",
     "text": [
      "(41,)\n",
      "[134.74876629 203.16008603  39.01164991  32.04803815 -15.29111319\n",
      "  39.69988713 171.07336767 -40.05113662 116.20818423  17.49312281\n",
      "  70.92622241  32.16238348  19.25705352  74.34521164  54.81842301\n",
      "  71.90903432 426.47324994  81.64949109 437.82083892  62.99592191\n",
      "  29.51323941 -22.76551849  37.87687431 145.03828969 107.58231525\n",
      "  83.93611484 330.29730586  16.43947925 255.17751965 109.52110949\n",
      "  14.26447816  40.64871143  21.6198402  126.70966962 150.12041052\n",
      "  83.91024517  -3.58166462  74.08129442  12.50921919  47.15161849\n",
      "  35.47577777]\n"
     ]
    },
    {
     "data": {
      "text/plain": [
       "<ErrorbarContainer object of 3 artists>"
      ]
     },
     "execution_count": 183,
     "metadata": {},
     "output_type": "execute_result"
    },
    {
     "data": {
      "image/png": "[encoded data removed]",
      "text/plain": [
       "<Figure size 432x288 with 1 Axes>"
      ]
     },
     "metadata": {
      "needs_background": "light"
     },
     "output_type": "display_data"
    }
   ],
   "source": [
    "plt.plot(X_train,Y_train,'ro') # plot data \n",
    "plt.plot(X_test,pred_mean,'b') # plot mean prediction \n",
    "plt.errorbar(X_test[:,0][:,None].flatten(),pred_mean.flatten(),yerr=pred_var.flatten()) # plot error bars "
   ]
  },
  {
   "cell_type": "code",
   "execution_count": 190,
   "metadata": {},
   "outputs": [
    {
     "name": "stdout",
     "output_type": "stream",
     "text": [
      "(41, 1)\n"
     ]
    }
   ],
   "source": [
    "w_samp = np.random.multivariate_normal(post_mean.flatten(),post_cov,1) \n",
    "Y_predict = np.dot(testX,w_samp.T)\n",
    "print(Y_predict.shape)"
   ]
  },
  {
   "cell_type": "code",
   "execution_count": 192,
   "metadata": {},
   "outputs": [
    {
     "name": "stdout",
     "output_type": "stream",
     "text": [
      "[[  0.         134.66175305]\n",
      " [  1.         203.44029487]\n",
      " [  2.          38.95203261]\n",
      " [  3.          31.9497476 ]\n",
      " [  4.         -15.31816676]\n",
      " [  5.          39.55052319]\n",
      " [  6.         171.0155113 ]\n",
      " [  7.         -40.1208211 ]\n",
      " [  8.         116.38983131]\n",
      " [  9.          17.54555779]\n",
      " [ 10.          70.84292027]\n",
      " [ 11.          32.25847452]\n",
      " [ 12.          19.31175842]\n",
      " [ 13.          74.39826803]\n",
      " [ 14.          54.92440208]\n",
      " [ 15.          71.95912065]\n",
      " [ 16.         427.39761607]\n",
      " [ 17.          81.60467729]\n",
      " [ 18.         438.70094362]\n",
      " [ 19.          62.97211665]\n",
      " [ 20.          29.5402794 ]\n",
      " [ 21.         -22.78815449]\n",
      " [ 22.          37.93685931]\n",
      " [ 23.         145.25215129]\n",
      " [ 24.         107.44345032]\n",
      " [ 25.          83.98257873]\n",
      " [ 26.         330.75434669]\n",
      " [ 27.          16.41684147]\n",
      " [ 28.         255.55943667]\n",
      " [ 29.         109.55645551]\n",
      " [ 30.          14.20311756]\n",
      " [ 31.          40.65778271]\n",
      " [ 32.          21.62136974]\n",
      " [ 33.         126.7196662 ]\n",
      " [ 34.         149.81951845]\n",
      " [ 35.          83.70358083]\n",
      " [ 36.          -3.56752731]\n",
      " [ 37.          74.2143718 ]\n",
      " [ 38.          12.41555591]\n",
      " [ 39.          47.26019296]\n",
      " [ 40.          35.40906285]]\n"
     ]
    }
   ],
   "source": [
    "test_header = \"Id,PRP\"\n",
    "n_points = X_test.shape[0]\n",
    "y_pred_pp = np.ones((n_points, 2))\n",
    "y_pred_pp[:, 0] = range(n_points)\n",
    "y_pred_pp[:, 1] = Y_predict[:,0]\n",
    "print(y_pred_pp)\n",
    "np.savetxt('my_submission_b.csv', y_pred_pp, fmt='%d', delimiter=\",\",header=test_header, comments=\"\")"
   ]
  },
  {
   "cell_type": "code",
   "execution_count": null,
   "metadata": {},
   "outputs": [],
   "source": []
  }
 ],
 "metadata": {
  "kernelspec": {
   "display_name": "Python 3",
   "language": "python",
   "name": "python3"
  },
  "language_info": {
   "codemirror_mode": {
    "name": "ipython",
    "version": 3
   },
   "file_extension": ".py",
   "mimetype": "text/x-python",
   "name": "python",
   "nbconvert_exporter": "python",
   "pygments_lexer": "ipython3",
   "version": "3.7.2"
  }
 },
 "nbformat": 4,
 "nbformat_minor": 1
}
