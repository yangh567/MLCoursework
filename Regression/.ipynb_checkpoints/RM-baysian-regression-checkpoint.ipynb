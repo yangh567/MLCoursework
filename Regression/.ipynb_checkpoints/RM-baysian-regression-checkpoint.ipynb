{
 "cells": [
  {
   "cell_type": "markdown",
   "metadata": {},
   "source": [
    "### Bayesian linear regression on CPU data\n",
    "\n",
    " * #### Aims\n",
    "     - To implement Bayesian inference over the parameters of the linear model for the CPU data.\n",
    "     - Practise model selection with marginal likelihood"
   ]
  },
  {
   "cell_type": "markdown",
   "metadata": {},
   "source": [
    "#### Task 1:  Bayesian treatment of the CPU regression problem\n",
    "In this task, we will perform a Bayesian treatment of the CPU regression problem. \n",
    "\n",
    "#####  We start by loading the data and rescaling it to aid with numerics."
   ]
  },
  {
   "cell_type": "code",
   "execution_count": 1,
   "metadata": {},
   "outputs": [],
   "source": [
    "import numpy as np\n",
    "import pylab as plt\n",
    "%matplotlib inline\n",
    "np.random.seed(1)\n",
    "\n",
    "\n",
    "X_train = np.loadtxt('X_train.csv', delimiter=',', skiprows=1)\n",
    "X_test = np.loadtxt('X_test.csv', delimiter=',', skiprows=1)\n",
    "Y_train = np.loadtxt('y_train.csv', delimiter=',', skiprows=1)[:,1][:,None]\n",
    "\n",
    "MYCT = X_train[:,0][:,None]\n",
    "MMIN = X_train[:,1][:,None]\n",
    "MMAX = X_train[:,2][:,None]\n",
    "CACH = X_train[:,3][:,None]\n",
    "CHMIN = X_train[:,4][:,None]\n",
    "CHMAX = X_train[:,5][:,None]"
   ]
  },
  {
   "cell_type": "markdown",
   "metadata": {},
   "source": [
    "##### Task 1.1: Step up prior, $p(\\mathbf{w})$\n",
    "\n",
    "We'll define a Gaussian prior over $\\mathbf{w}$, with mean $\\mathbf{0}$ and covariance $\\left[\\begin{array}{cc} 100& 0\\\\0 & 5\\end{array}\\right]$. We'll also fix $\\sigma^2=2$."
   ]
  },
  {
   "cell_type": "code",
   "execution_count": 2,
   "metadata": {},
   "outputs": [
    {
     "name": "stdout",
     "output_type": "stream",
     "text": [
      "(6, 6)\n",
      "137760.0000000003\n"
     ]
    }
   ],
   "source": [
    "prior_mean = np.zeros((6,1)) # vector of mean \n",
    "prior_cov = np.array([[1,8,1,6,2,9],[4,5,5,5,6,5],[10,1,10,21,10,19],[9,1,1,10,10,10],[10,0,10,0,10,0],[0,20,0,2,10,10]]) # covariance matrix\n",
    "print(prior_cov.shape)\n",
    "print(np.linalg.det(prior_cov))\n",
    "sig_sq = 2 # variance of the additive noise "
   ]
  },
  {
   "cell_type": "markdown",
   "metadata": {},
   "source": [
    "##### Task 1.2: Let's see what this prior means by sampling some $\\mathbf{w}$ vectors from it and plotting the models with all features\n",
    "Use `numpy`'s `multivariate_normal` to generate samples from a multivariate Gaussian \n",
    "https://docs.scipy.org/doc/numpy-1.15.1/reference/generated/numpy.random.multivariate_normal.html"
   ]
  },
  {
   "cell_type": "code",
   "execution_count": 3,
   "metadata": {},
   "outputs": [
    {
     "name": "stderr",
     "output_type": "stream",
     "text": [
      "c:\\users\\asus\\appdata\\local\\programs\\python\\python37-32\\lib\\site-packages\\ipykernel_launcher.py:1: RuntimeWarning: covariance is not positive-semidefinite.\n",
      "  \"\"\"Entry point for launching an IPython kernel.\n"
     ]
    },
    {
     "data": {
      "text/plain": [
       "[<matplotlib.lines.Line2D at 0x125fef50>,\n",
       " <matplotlib.lines.Line2D at 0x125fefb0>,\n",
       " <matplotlib.lines.Line2D at 0x1260f030>,\n",
       " <matplotlib.lines.Line2D at 0x1260f090>,\n",
       " <matplotlib.lines.Line2D at 0x1260f0f0>,\n",
       " <matplotlib.lines.Line2D at 0x1260f190>,\n",
       " <matplotlib.lines.Line2D at 0x1260f1f0>,\n",
       " <matplotlib.lines.Line2D at 0x1260f250>,\n",
       " <matplotlib.lines.Line2D at 0x1260f2b0>,\n",
       " <matplotlib.lines.Line2D at 0x1260f170>]"
      ]
     },
     "execution_count": 3,
     "metadata": {},
     "output_type": "execute_result"
    },
    {
     "data": {
      "image/png": "[encoded data removed]",
      "text/plain": [
       "<Figure size 432x288 with 1 Axes>"
      ]
     },
     "metadata": {
      "needs_background": "light"
     },
     "output_type": "display_data"
    }
   ],
   "source": [
    "w_samp = np.random.multivariate_normal(prior_mean.flatten(),prior_cov,10) # sampling from multivariate Gaussian distribution \n",
    "plt.figure()\n",
    "plt.plot(X_train,Y_train,'ro') # plot data \n",
    "plot_x = X_test # generate new x for plotting the sampled model, e.g. you need construct design matrix for any new x\n",
    "plt.plot(np.dot(w_samp,plot_x.T).T)"
   ]
  },
  {
   "cell_type": "markdown",
   "metadata": {},
   "source": [
    "##### Task 1.4: Compute the posterior and draw samples from it\n",
    "\n",
    "First let's write functions to construct polynomial design matrix, and to compute posterior mean and covariance \n",
    "$$\\mathbf{\\Sigma} = \\left(\\frac{1}{\\sigma^2}\\mathbf{X}^{T}\\mathbf{X} + \\mathbf{S}^{-1}\\right)^{-1}$$\n",
    "$$\\boldsymbol\\mu = \\frac{1}{\\sigma^2}\\mathbf{\\Sigma}\\mathbf{X}^{T}\\mathbf{t}$$\n",
    "where $\\mathbf{S}$ is the covariance matrix of the prior $p(\\mathbf{w})$"
   ]
  },
  {
   "cell_type": "code",
   "execution_count": 4,
   "metadata": {},
   "outputs": [],
   "source": [
    "def compute_post_cov(X, prior_cov, sig_sq): # your own function to compute posterior mean\n",
    "    return(np.linalg.inv((1.0/sig_sq)*np.dot(X.T,X) + np.linalg.inv(prior_cov)) )\n",
    " \n",
    "def compute_post_mean(post_cov, sig_sq, X, t): # your own function to compute posterior covariance\n",
    "    return(np.dot(post_cov,(1.0/sig_sq)*np.dot(X.T,t) ) )"
   ]
  },
  {
   "cell_type": "code",
   "execution_count": 5,
   "metadata": {},
   "outputs": [
    {
     "data": {
      "text/plain": [
       "[<matplotlib.lines.Line2D at 0x126d56d0>]"
      ]
     },
     "execution_count": 5,
     "metadata": {},
     "output_type": "execute_result"
    },
    {
     "data": {
      "image/png": "[encoded data removed]",
      "text/plain": [
       "<Figure size 432x288 with 1 Axes>"
      ]
     },
     "metadata": {
      "needs_background": "light"
     },
     "output_type": "display_data"
    }
   ],
   "source": [
    "X = X_train # construct design matrix\n",
    "post_cov = compute_post_cov(X, prior_cov, sig_sq) # compute posterior mean \n",
    "post_mean = compute_post_mean(post_cov,sig_sq,X,Y_train) # compute posterior covariance \n",
    "\n",
    "plt.figure()\n",
    "plt.title('data and posterior samples') \n",
    "w_samp = np.random.multivariate_normal(post_mean.flatten(),post_cov,1) # draw some samples\n",
    "plt.plot(X_train,Y_train,'ro')\n",
    "plt.plot(np.dot(w_samp,X_test.T).T,'b') # plot the sampled lines, \n",
    "                                               # only need 2 points to plot a straight line\n",
    "plt.plot(np.dot(X_test,post_mean),'k',linewidth=3) # plot the posterior mean prediction, \n",
    "                                                    # only need 2 points to plot a straight line \n",
    "\n"
   ]
  },
  {
   "cell_type": "markdown",
   "metadata": {},
   "source": [
    "#### Task 2: We'll now look at predictions\n",
    "\n",
    "##### Task 2.1: Functions for posterior prediction\n",
    "\n",
    "$$p(t_{new} | \\mathbf{X},\\mathbf{t},\\mathbf{x}_{new},\\sigma^2) = {\\cal N}(\\mathbf{x}_{new}^{T}\\boldsymbol\\mu,\\sigma^2 + \\mathbf{x}_{new}^{T}  \\mathbf{\\Sigma} \\mathbf{x}_{new})$$"
   ]
  },
  {
   "cell_type": "code",
   "execution_count": 6,
   "metadata": {},
   "outputs": [],
   "source": [
    "testX = X_test # generate some test data\n",
    "\n",
    "pred_mean = np.dot(testX, post_mean) # compute predictive mean\n",
    "pred_var = sig_sq + np.diag(np.dot(testX,np.dot((post_cov),testX.T))) # compute predictive variance "
   ]
  },
  {
   "cell_type": "markdown",
   "metadata": {},
   "source": [
    "#### Task 2.2: Plot error bars "
   ]
  },
  {
   "cell_type": "code",
   "execution_count": 7,
   "metadata": {
    "scrolled": true
   },
   "outputs": [
    {
     "data": {
      "text/plain": [
       "<ErrorbarContainer object of 3 artists>"
      ]
     },
     "execution_count": 7,
     "metadata": {},
     "output_type": "execute_result"
    },
    {
     "data": {
      "image/png": "[encoded data removed]",
      "text/plain": [
       "<Figure size 432x288 with 1 Axes>"
      ]
     },
     "metadata": {
      "needs_background": "light"
     },
     "output_type": "display_data"
    }
   ],
   "source": [
    "plt.plot(X_train,Y_train,'ro') # plot data \n",
    "plt.plot(X_test,pred_mean,'b') # plot mean prediction \n",
    "plt.errorbar(X_test[:,0][:,None].flatten(),pred_mean.flatten(),yerr=pred_var.flatten()) # plot error bars "
   ]
  },
  {
   "cell_type": "code",
   "execution_count": 8,
   "metadata": {},
   "outputs": [
    {
     "name": "stdout",
     "output_type": "stream",
     "text": [
      "(41, 1)\n"
     ]
    }
   ],
   "source": [
    "w_samp = np.random.multivariate_normal(post_mean.flatten(),post_cov,1) \n",
    "Y_predict = np.dot(testX,w_samp.T)\n",
    "print(Y_predict.shape)"
   ]
  },
  {
   "cell_type": "code",
   "execution_count": 9,
   "metadata": {},
   "outputs": [
    {
     "name": "stdout",
     "output_type": "stream",
     "text": [
      "[[  0.         134.79254538]\n",
      " [  1.         203.17875579]\n",
      " [  2.          38.81590856]\n",
      " [  3.          31.94144987]\n",
      " [  4.         -15.66157272]\n",
      " [  5.          39.41540401]\n",
      " [  6.         170.87295436]\n",
      " [  7.         -40.91821297]\n",
      " [  8.         116.50413157]\n",
      " [  9.          17.34416161]\n",
      " [ 10.          70.92931216]\n",
      " [ 11.          31.81293667]\n",
      " [ 12.          19.1787906 ]\n",
      " [ 13.          74.20023489]\n",
      " [ 14.          54.75470749]\n",
      " [ 15.          71.73832874]\n",
      " [ 16.         425.85842418]\n",
      " [ 17.          81.60810541]\n",
      " [ 18.         437.27027975]\n",
      " [ 19.          62.99217413]\n",
      " [ 20.          29.36338668]\n",
      " [ 21.         -23.24399389]\n",
      " [ 22.          37.88871666]\n",
      " [ 23.         144.89768608]\n",
      " [ 24.         108.2769934 ]\n",
      " [ 25.          83.9324355 ]\n",
      " [ 26.         332.25212334]\n",
      " [ 27.          16.34498176]\n",
      " [ 28.         254.82829797]\n",
      " [ 29.         109.37158623]\n",
      " [ 30.          13.83539974]\n",
      " [ 31.          40.60450958]\n",
      " [ 32.          21.50686098]\n",
      " [ 33.         126.75881155]\n",
      " [ 34.         150.36369308]\n",
      " [ 35.          83.85432931]\n",
      " [ 36.          -3.93475767]\n",
      " [ 37.          74.10418599]\n",
      " [ 38.          12.05945754]\n",
      " [ 39.          47.00848449]\n",
      " [ 40.          35.62045432]]\n"
     ]
    }
   ],
   "source": [
    "test_header = \"Id,PRP\"\n",
    "n_points = X_test.shape[0]\n",
    "y_pred_pp = np.ones((n_points, 2))\n",
    "y_pred_pp[:, 0] = range(n_points)\n",
    "y_pred_pp[:, 1] = Y_predict[:,0]\n",
    "print(y_pred_pp)\n",
    "np.savetxt('my_submission_b.csv', y_pred_pp, fmt='%d', delimiter=\",\",header=test_header, comments=\"\")"
   ]
  },
  {
   "cell_type": "markdown",
   "metadata": {},
   "source": [
    "#### Task 3: make X_train with 4 features by combining feature"
   ]
  },
  {
   "cell_type": "code",
   "execution_count": 10,
   "metadata": {},
   "outputs": [],
   "source": [
    "MYCT = X_train[:,0][:,None]\n",
    "MMIN = X_train[:,1][:,None]\n",
    "MMAX = X_train[:,2][:,None]\n",
    "CACH = X_train[:,3][:,None]\n",
    "CHMIN = X_train[:,4][:,None]\n",
    "CHMAX = X_train[:,5][:,None]\n",
    "Average_N_CH = (CHMIN + CHMAX)/2\n",
    "Average_M_M = (MMIN+MMAX)/2\n",
    "\n",
    "# allocate new X_train with 4 features\n",
    "X_new_train = MYCT\n",
    "X_new_train = np.hstack((X_new_train,Average_M_M))\n",
    "X_new_train = np.hstack((X_new_train,CACH))\n",
    "X_new_train = np.hstack((X_new_train,Average_N_CH))\n",
    "# allocate new Y_train with original Y_train\n",
    "Y_new_train = Y_train\n",
    "\n",
    "\n",
    "MYCT_test = X_test[:,0][:,None]\n",
    "MMIN_test = X_test[:,1][:,None]\n",
    "MMAX_test = X_test[:,2][:,None]\n",
    "CACH_test = X_test[:,3][:,None]\n",
    "CHMIN_test = X_test[:,4][:,None]\n",
    "CHMAX_test = X_test[:,5][:,None]\n",
    "Average_N_CH_test = (CHMIN_test + CHMAX_test)/2\n",
    "Average_M_M_test = (MMIN_test+MMAX_test)/2\n",
    "\n",
    "# allocate new X_test with 4 features\n",
    "X_new_test = MYCT_test\n",
    "X_new_test = np.hstack((X_new_test,Average_M_M_test))\n",
    "X_new_test = np.hstack((X_new_test,CACH_test))\n",
    "X_new_test = np.hstack((X_new_test,Average_N_CH_test))"
   ]
  },
  {
   "cell_type": "markdown",
   "metadata": {},
   "source": [
    "##### Task 1.1: Step up prior, $p(\\mathbf{w})$\n",
    "\n",
    "We'll define a Gaussian prior over $\\mathbf{w}$, with mean $\\mathbf{0}$ and covariance $\\left[\\begin{array}{cc} 100& 0\\\\0 & 5\\end{array}\\right]$. We'll also fix $\\sigma^2=2$."
   ]
  },
  {
   "cell_type": "code",
   "execution_count": 11,
   "metadata": {},
   "outputs": [
    {
     "name": "stdout",
     "output_type": "stream",
     "text": [
      "(4, 4)\n",
      "72.0\n"
     ]
    }
   ],
   "source": [
    "prior_mean_new = np.zeros((4,1)) # vector of mean \n",
    "prior_cov_new = np.array([[1,1,1,2],[4,5,5,1],[1,1,10,1],[1,1,1,10]]) # covariance matrix\n",
    "print(prior_cov_new.shape)\n",
    "print(np.linalg.det(prior_cov_new))\n",
    "sig_sq = 2 # variance of the additive noise "
   ]
  },
  {
   "cell_type": "markdown",
   "metadata": {},
   "source": [
    "##### Task 1.2: Let's see what this prior means by sampling some $\\mathbf{w}$ vectors from it and plotting the models with all features\n",
    "Use `numpy`'s `multivariate_normal` to generate samples from a multivariate Gaussian \n",
    "https://docs.scipy.org/doc/numpy-1.15.1/reference/generated/numpy.random.multivariate_normal.html"
   ]
  },
  {
   "cell_type": "code",
   "execution_count": 12,
   "metadata": {},
   "outputs": [
    {
     "name": "stderr",
     "output_type": "stream",
     "text": [
      "c:\\users\\asus\\appdata\\local\\programs\\python\\python37-32\\lib\\site-packages\\ipykernel_launcher.py:1: RuntimeWarning: covariance is not positive-semidefinite.\n",
      "  \"\"\"Entry point for launching an IPython kernel.\n"
     ]
    },
    {
     "data": {
      "text/plain": [
       "[<matplotlib.lines.Line2D at 0x12791f90>,\n",
       " <matplotlib.lines.Line2D at 0x12791ff0>,\n",
       " <matplotlib.lines.Line2D at 0x1279d070>,\n",
       " <matplotlib.lines.Line2D at 0x1279d0d0>,\n",
       " <matplotlib.lines.Line2D at 0x1279d130>,\n",
       " <matplotlib.lines.Line2D at 0x1279d1d0>,\n",
       " <matplotlib.lines.Line2D at 0x1279d230>,\n",
       " <matplotlib.lines.Line2D at 0x1279d290>,\n",
       " <matplotlib.lines.Line2D at 0x1279d2f0>,\n",
       " <matplotlib.lines.Line2D at 0x1279d1b0>]"
      ]
     },
     "execution_count": 12,
     "metadata": {},
     "output_type": "execute_result"
    },
    {
     "data": {
      "image/png": "[encoded data removed]",
      "text/plain": [
       "<Figure size 432x288 with 1 Axes>"
      ]
     },
     "metadata": {
      "needs_background": "light"
     },
     "output_type": "display_data"
    }
   ],
   "source": [
    "w_samp = np.random.multivariate_normal(prior_mean_new.flatten(),prior_cov_new,10) # sampling from multivariate Gaussian distribution \n",
    "plt.figure()\n",
    "plt.plot(X_new_train,Y_new_train,'ro') # plot data \n",
    "plot_x = X_new_test # generate new x for plotting the sampled model, e.g. you need construct design matrix for any new x\n",
    "plt.plot(np.dot(w_samp,plot_x.T).T)"
   ]
  },
  {
   "cell_type": "markdown",
   "metadata": {},
   "source": [
    "##### Task 1.4: Compute the posterior and draw samples from it\n",
    "\n",
    "First let's write functions to construct polynomial design matrix, and to compute posterior mean and covariance \n",
    "$$\\mathbf{\\Sigma} = \\left(\\frac{1}{\\sigma^2}\\mathbf{X}^{T}\\mathbf{X} + \\mathbf{S}^{-1}\\right)^{-1}$$\n",
    "$$\\boldsymbol\\mu = \\frac{1}{\\sigma^2}\\mathbf{\\Sigma}\\mathbf{X}^{T}\\mathbf{t}$$\n",
    "where $\\mathbf{S}$ is the covariance matrix of the prior $p(\\mathbf{w})$"
   ]
  },
  {
   "cell_type": "code",
   "execution_count": 13,
   "metadata": {},
   "outputs": [
    {
     "data": {
      "text/plain": [
       "[<matplotlib.lines.Line2D at 0x137bbad0>]"
      ]
     },
     "execution_count": 13,
     "metadata": {},
     "output_type": "execute_result"
    },
    {
     "data": {
      "image/png": "[encoded data removed]",
      "text/plain": [
       "<Figure size 432x288 with 1 Axes>"
      ]
     },
     "metadata": {
      "needs_background": "light"
     },
     "output_type": "display_data"
    }
   ],
   "source": [
    "X = X_new_train # construct design matrix\n",
    "post_cov_new = compute_post_cov(X, prior_cov_new, sig_sq) # compute posterior mean \n",
    "post_mean_new = compute_post_mean(post_cov_new,sig_sq,X,Y_new_train) # compute posterior covariance \n",
    "\n",
    "plt.figure()\n",
    "plt.title('data and posterior samples') \n",
    "w_samp = np.random.multivariate_normal(post_mean_new.flatten(),post_cov_new,1) # draw some samples\n",
    "plt.plot(X_new_train,Y_new_train,'ro')\n",
    "plt.plot(np.dot(w_samp,X_new_test.T).T,'b') # plot the sampled lines, \n",
    "                                               # only need 2 points to plot a straight line\n",
    "plt.plot(np.dot(X_new_test,post_mean_new),'k',linewidth=3) # plot the posterior mean prediction, \n",
    "                                                    # only need 2 points to plot a straight line "
   ]
  },
  {
   "cell_type": "markdown",
   "metadata": {},
   "source": [
    "#### Task 2: We'll now look at predictions\n",
    "\n",
    "##### Task 2.1: Functions for posterior prediction\n",
    "\n",
    "$$p(t_{new} | \\mathbf{X},\\mathbf{t},\\mathbf{x}_{new},\\sigma^2) = {\\cal N}(\\mathbf{x}_{new}^{T}\\boldsymbol\\mu,\\sigma^2 + \\mathbf{x}_{new}^{T}  \\mathbf{\\Sigma} \\mathbf{x}_{new})$$"
   ]
  },
  {
   "cell_type": "code",
   "execution_count": 14,
   "metadata": {},
   "outputs": [],
   "source": [
    "testX = X_new_test # generate some test data\n",
    "\n",
    "pred_mean_new = np.dot(testX, post_mean_new) # compute predictive mean\n",
    "pred_var_new = sig_sq + np.diag(np.dot(testX,np.dot((post_cov_new),testX.T))) # compute predictive variance "
   ]
  },
  {
   "cell_type": "markdown",
   "metadata": {},
   "source": [
    "#### Task 2.2: Plot error bars "
   ]
  },
  {
   "cell_type": "code",
   "execution_count": 15,
   "metadata": {},
   "outputs": [
    {
     "data": {
      "text/plain": [
       "<ErrorbarContainer object of 3 artists>"
      ]
     },
     "execution_count": 15,
     "metadata": {},
     "output_type": "execute_result"
    },
    {
     "data": {
      "image/png": "[encoded data removed]",
      "text/plain": [
       "<Figure size 432x288 with 1 Axes>"
      ]
     },
     "metadata": {
      "needs_background": "light"
     },
     "output_type": "display_data"
    }
   ],
   "source": [
    "plt.plot(X_new_train,Y_new_train,'ro') # plot data \n",
    "plt.plot(X_new_test,pred_mean_new,'b') # plot mean prediction \n",
    "plt.errorbar(X_new_test[:,0][:,None].flatten(),pred_mean_new.flatten(),yerr=pred_var_new.flatten()) # plot error bars "
   ]
  },
  {
   "cell_type": "code",
   "execution_count": 16,
   "metadata": {},
   "outputs": [
    {
     "name": "stdout",
     "output_type": "stream",
     "text": [
      "(41, 1)\n"
     ]
    }
   ],
   "source": [
    "w_samp = np.random.multivariate_normal(post_mean_new.flatten(),post_cov_new,1) \n",
    "Y_predict_new = np.dot(X_new_test,w_samp.T)\n",
    "print(Y_predict_new.shape)"
   ]
  },
  {
   "cell_type": "code",
   "execution_count": 17,
   "metadata": {},
   "outputs": [
    {
     "name": "stdout",
     "output_type": "stream",
     "text": [
      "[[  0.         161.03510482]\n",
      " [  1.         217.17255895]\n",
      " [  2.          49.71911817]\n",
      " [  3.          37.9461093 ]\n",
      " [  4.         -13.49158657]\n",
      " [  5.          52.30598686]\n",
      " [  6.         171.72953995]\n",
      " [  7.         -46.26329305]\n",
      " [  8.         131.2223331 ]\n",
      " [  9.          13.7988076 ]\n",
      " [ 10.          80.62255498]\n",
      " [ 11.          24.13394452]\n",
      " [ 12.          12.71482766]\n",
      " [ 13.          71.40412429]\n",
      " [ 14.          48.8100178 ]\n",
      " [ 15.          70.21858354]\n",
      " [ 16.         383.93855524]\n",
      " [ 17.          97.80697557]\n",
      " [ 18.         390.99497201]\n",
      " [ 19.          75.48018803]\n",
      " [ 20.          28.73469752]\n",
      " [ 21.         -26.14260448]\n",
      " [ 22.          41.97662   ]\n",
      " [ 23.         151.08603555]\n",
      " [ 24.         124.66115876]\n",
      " [ 25.          85.46994966]\n",
      " [ 26.         429.27046835]\n",
      " [ 27.          15.64416485]\n",
      " [ 28.         247.68983984]\n",
      " [ 29.         128.66889243]\n",
      " [ 30.          26.96563666]\n",
      " [ 31.          40.24478466]\n",
      " [ 32.          25.50749326]\n",
      " [ 33.         148.30662017]\n",
      " [ 34.         124.38382172]\n",
      " [ 35.          93.64270606]\n",
      " [ 36.          -5.80883496]\n",
      " [ 37.          83.42610848]\n",
      " [ 38.          24.41581654]\n",
      " [ 39.          41.91516609]\n",
      " [ 40.          30.7445518 ]]\n"
     ]
    }
   ],
   "source": [
    "test_header = \"Id,PRP\"\n",
    "n_points = X_new_test.shape[0]\n",
    "y_pred_pp_new = np.ones((n_points, 2))\n",
    "y_pred_pp_new[:, 0] = range(n_points)\n",
    "y_pred_pp_new[:, 1] = Y_predict_new[:,0]\n",
    "print(y_pred_pp_new)\n",
    "np.savetxt('my_submission_new_b.csv', y_pred_pp_new, fmt='%d', delimiter=\",\",header=test_header, comments=\"\")"
   ]
  },
  {
   "cell_type": "code",
   "execution_count": null,
   "metadata": {},
   "outputs": [],
   "source": []
  }
 ],
 "metadata": {
  "kernelspec": {
   "display_name": "Python 3",
   "language": "python",
   "name": "python3"
  },
  "language_info": {
   "codemirror_mode": {
    "name": "ipython",
    "version": 3
   },
   "file_extension": ".py",
   "mimetype": "text/x-python",
   "name": "python",
   "nbconvert_exporter": "python",
   "pygments_lexer": "ipython3",
   "version": "3.7.2"
  }
 },
 "nbformat": 4,
 "nbformat_minor": 1
}
