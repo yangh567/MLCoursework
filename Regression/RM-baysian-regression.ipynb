{
 "cells": [
  {
   "cell_type": "markdown",
   "metadata": {},
   "source": [
    "### Bayesian linear regression on CPU data\n",
    "\n",
    " * #### Aims\n",
    "     - To implement Bayesian inference over the parameters of the linear model for the CPU data.\n",
    "     - Practise model selection with marginal likelihood"
   ]
  },
  {
   "cell_type": "markdown",
   "metadata": {},
   "source": [
    "#### Task 1:  Bayesian treatment of the CPU regression problem\n",
    "In this task, we will perform a Bayesian treatment of the CPU regression problem. \n",
    "\n",
    "#####  We start by loading the data and rescaling it to aid with numerics."
   ]
  },
  {
   "cell_type": "code",
   "execution_count": 1,
   "metadata": {},
   "outputs": [],
   "source": [
    "import numpy as np\n",
    "import pylab as plt\n",
    "%matplotlib inline\n",
    "np.random.seed(1)\n",
    "\n",
    "\n",
    "X_train = np.loadtxt('X_train.csv', delimiter=',', skiprows=1)\n",
    "X_test = np.loadtxt('X_test.csv', delimiter=',', skiprows=1)\n",
    "Y_train = np.loadtxt('y_train.csv', delimiter=',', skiprows=1)[:,1][:,None]\n",
    "\n",
    "MYCT = X_train[:,0][:,None]\n",
    "MMIN = X_train[:,1][:,None]\n",
    "MMAX = X_train[:,2][:,None]\n",
    "CACH = X_train[:,3][:,None]\n",
    "CHMIN = X_train[:,4][:,None]\n",
    "CHMAX = X_train[:,5][:,None]"
   ]
  },
  {
   "cell_type": "markdown",
   "metadata": {},
   "source": [
    "##### Task 1.1: Step up prior, $p(\\mathbf{w})$\n",
    "\n",
    "We'll define a Gaussian prior over $\\mathbf{w}$, with mean $\\mathbf{0}$ and covariance $\\left[\\begin{array}{cc} 100& 0\\\\0 & 5\\end{array}\\right]$. We'll also fix $\\sigma^2=2$."
   ]
  },
  {
   "cell_type": "code",
   "execution_count": 2,
   "metadata": {},
   "outputs": [
    {
     "name": "stdout",
     "output_type": "stream",
     "text": [
      "(6, 6)\n",
      "-8174279.99999999\n"
     ]
    }
   ],
   "source": [
    "prior_mean = np.zeros((6,1)) # vector of mean \n",
    "prior_cov = np.array([[100,8,100,6,100,9],[4,5,5,5,6,5],[101,32,101,21,101,19],[9,10,1,10,100,10],[102,0,102,0,102,0],[0,20,0,20,100,10]]) # covariance matrix\n",
    "print(prior_cov.shape)\n",
    "print(np.linalg.det(prior_cov))\n",
    "sig_sq = 2 # variance of the additive noise "
   ]
  },
  {
   "cell_type": "markdown",
   "metadata": {},
   "source": [
    "##### Task 1.2: Let's see what this prior means by sampling some $\\mathbf{w}$ vectors from it and plotting the models with all features\n",
    "Use `numpy`'s `multivariate_normal` to generate samples from a multivariate Gaussian \n",
    "https://docs.scipy.org/doc/numpy-1.15.1/reference/generated/numpy.random.multivariate_normal.html"
   ]
  },
  {
   "cell_type": "code",
   "execution_count": 3,
   "metadata": {},
   "outputs": [
    {
     "name": "stderr",
     "output_type": "stream",
     "text": [
      "c:\\users\\asus\\appdata\\local\\programs\\python\\python37-32\\lib\\site-packages\\ipykernel_launcher.py:1: RuntimeWarning: covariance is not positive-semidefinite.\n",
      "  \"\"\"Entry point for launching an IPython kernel.\n"
     ]
    },
    {
     "data": {
      "text/plain": [
       "[<matplotlib.lines.Line2D at 0x10ba1f10>,\n",
       " <matplotlib.lines.Line2D at 0x10ba1f70>,\n",
       " <matplotlib.lines.Line2D at 0x10ba1fd0>,\n",
       " <matplotlib.lines.Line2D at 0x10bb1050>,\n",
       " <matplotlib.lines.Line2D at 0x10bb10b0>,\n",
       " <matplotlib.lines.Line2D at 0x10bb1150>,\n",
       " <matplotlib.lines.Line2D at 0x10bb11b0>,\n",
       " <matplotlib.lines.Line2D at 0x10bb1210>,\n",
       " <matplotlib.lines.Line2D at 0x10bb1270>,\n",
       " <matplotlib.lines.Line2D at 0x10bb1130>]"
      ]
     },
     "execution_count": 3,
     "metadata": {},
     "output_type": "execute_result"
    },
    {
     "data": {
      "image/png": "[encoded data removed]",
      "text/plain": [
       "<Figure size 432x288 with 1 Axes>"
      ]
     },
     "metadata": {
      "needs_background": "light"
     },
     "output_type": "display_data"
    }
   ],
   "source": [
    "w_samp = np.random.multivariate_normal(prior_mean.flatten(),prior_cov,10) # sampling from multivariate Gaussian distribution \n",
    "plt.figure()\n",
    "plt.plot(X_train,Y_train,'ro') # plot data \n",
    "plot_x = X_test # generate new x for plotting the sampled model, e.g. you need construct design matrix for any new x\n",
    "plt.plot(np.dot(w_samp,plot_x.T).T)"
   ]
  },
  {
   "cell_type": "markdown",
   "metadata": {},
   "source": [
    "##### Task 1.4: Compute the posterior and draw samples from it\n",
    "\n",
    "First let's write functions to construct polynomial design matrix, and to compute posterior mean and covariance \n",
    "$$\\mathbf{\\Sigma} = \\left(\\frac{1}{\\sigma^2}\\mathbf{X}^{T}\\mathbf{X} + \\mathbf{S}^{-1}\\right)^{-1}$$\n",
    "$$\\boldsymbol\\mu = \\frac{1}{\\sigma^2}\\mathbf{\\Sigma}\\mathbf{X}^{T}\\mathbf{t}$$\n",
    "where $\\mathbf{S}$ is the covariance matrix of the prior $p(\\mathbf{w})$"
   ]
  },
  {
   "cell_type": "code",
   "execution_count": 4,
   "metadata": {},
   "outputs": [],
   "source": [
    "def compute_post_cov(X, prior_cov, sig_sq): # your own function to compute posterior mean\n",
    "    return(np.linalg.inv((1.0/sig_sq)*np.dot(X.T,X) + np.linalg.inv(prior_cov)) )\n",
    " \n",
    "def compute_post_mean(post_cov, sig_sq, X, t): # your own function to compute posterior covariance\n",
    "    return(np.dot(post_cov,(1.0/sig_sq)*np.dot(X.T,t) ) )"
   ]
  },
  {
   "cell_type": "code",
   "execution_count": 5,
   "metadata": {},
   "outputs": [
    {
     "data": {
      "text/plain": [
       "[<matplotlib.lines.Line2D at 0x10c72e50>]"
      ]
     },
     "execution_count": 5,
     "metadata": {},
     "output_type": "execute_result"
    },
    {
     "data": {
      "image/png": "[encoded data removed]",
      "text/plain": [
       "<Figure size 432x288 with 1 Axes>"
      ]
     },
     "metadata": {
      "needs_background": "light"
     },
     "output_type": "display_data"
    }
   ],
   "source": [
    "X = X_train # construct design matrix\n",
    "post_cov = compute_post_cov(X, prior_cov, sig_sq) # compute posterior mean \n",
    "post_mean = compute_post_mean(post_cov,sig_sq,X,Y_train) # compute posterior covariance \n",
    "\n",
    "plt.figure()\n",
    "plt.title('data and posterior samples') \n",
    "w_samp = np.random.multivariate_normal(post_mean.flatten(),post_cov,1) # draw some samples\n",
    "plt.plot(X_train,Y_train,'ro')\n",
    "plt.plot(np.dot(w_samp,X_test.T).T,'b') # plot the sampled lines, \n",
    "                                               # only need 2 points to plot a straight line\n",
    "plt.plot(np.dot(X_test,post_mean),'k',linewidth=3) # plot the posterior mean prediction, \n",
    "                                                    # only need 2 points to plot a straight line \n",
    "\n"
   ]
  },
  {
   "cell_type": "markdown",
   "metadata": {},
   "source": [
    "#### Task 2: We'll now look at predictions\n",
    "\n",
    "##### Task 2.1: Functions for posterior prediction\n",
    "\n",
    "$$p(t_{new} | \\mathbf{X},\\mathbf{t},\\mathbf{x}_{new},\\sigma^2) = {\\cal N}(\\mathbf{x}_{new}^{T}\\boldsymbol\\mu,\\sigma^2 + \\mathbf{x}_{new}^{T}  \\mathbf{\\Sigma} \\mathbf{x}_{new})$$"
   ]
  },
  {
   "cell_type": "code",
   "execution_count": 6,
   "metadata": {},
   "outputs": [],
   "source": [
    "testX = X_test # generate some test data\n",
    "\n",
    "pred_mean = np.dot(testX, post_mean) # compute predictive mean\n",
    "pred_var = sig_sq + np.diag(np.dot(testX,np.dot((post_cov),testX.T))) # compute predictive variance "
   ]
  },
  {
   "cell_type": "markdown",
   "metadata": {},
   "source": [
    "#### Task 2.2: Plot error bars "
   ]
  },
  {
   "cell_type": "code",
   "execution_count": 7,
   "metadata": {},
   "outputs": [
    {
     "data": {
      "text/plain": [
       "<ErrorbarContainer object of 3 artists>"
      ]
     },
     "execution_count": 7,
     "metadata": {},
     "output_type": "execute_result"
    },
    {
     "data": {
      "image/png": "[encoded data removed]",
      "text/plain": [
       "<Figure size 432x288 with 1 Axes>"
      ]
     },
     "metadata": {
      "needs_background": "light"
     },
     "output_type": "display_data"
    }
   ],
   "source": [
    "plt.plot(X_train,Y_train,'ro') # plot data \n",
    "plt.plot(X_test,pred_mean,'b') # plot mean prediction \n",
    "plt.errorbar(X_test[:,0][:,None].flatten(),pred_mean.flatten(),yerr=pred_var.flatten()) # plot error bars "
   ]
  },
  {
   "cell_type": "code",
   "execution_count": 8,
   "metadata": {},
   "outputs": [
    {
     "name": "stdout",
     "output_type": "stream",
     "text": [
      "(41, 1)\n"
     ]
    }
   ],
   "source": [
    "w_samp = np.random.multivariate_normal(post_mean.flatten(),post_cov,1) \n",
    "Y_predict = np.dot(testX,w_samp.T)\n",
    "print(Y_predict.shape)"
   ]
  },
  {
   "cell_type": "code",
   "execution_count": 9,
   "metadata": {},
   "outputs": [
    {
     "name": "stdout",
     "output_type": "stream",
     "text": [
      "[[  0.         134.79365671]\n",
      " [  1.         203.1791473 ]\n",
      " [  2.          38.81603321]\n",
      " [  3.          31.94134932]\n",
      " [  4.         -15.66136331]\n",
      " [  5.          39.41601684]\n",
      " [  6.         170.87340211]\n",
      " [  7.         -40.91797003]\n",
      " [  8.         116.50476273]\n",
      " [  9.          17.3441179 ]\n",
      " [ 10.          70.92972505]\n",
      " [ 11.          31.81284144]\n",
      " [ 12.          19.1786561 ]\n",
      " [ 13.          74.19992976]\n",
      " [ 14.          54.75465051]\n",
      " [ 15.          71.73814532]\n",
      " [ 16.         425.85817403]\n",
      " [ 17.          81.60823513]\n",
      " [ 18.         437.26980515]\n",
      " [ 19.          62.9926195 ]\n",
      " [ 20.          29.3633179 ]\n",
      " [ 21.         -23.24382335]\n",
      " [ 22.          37.88888594]\n",
      " [ 23.         144.89764933]\n",
      " [ 24.         108.27916006]\n",
      " [ 25.          83.93247981]\n",
      " [ 26.         332.25549015]\n",
      " [ 27.          16.34505396]\n",
      " [ 28.         254.82818737]\n",
      " [ 29.         109.37175834]\n",
      " [ 30.          13.83568201]\n",
      " [ 31.          40.6044954 ]\n",
      " [ 32.          21.50689114]\n",
      " [ 33.         126.75921039]\n",
      " [ 34.         150.36258224]\n",
      " [ 35.          83.85402848]\n",
      " [ 36.          -3.93464939]\n",
      " [ 37.          74.10457432]\n",
      " [ 38.          12.0596977 ]\n",
      " [ 39.          47.00850991]\n",
      " [ 40.          35.62008805]]\n"
     ]
    }
   ],
   "source": [
    "test_header = \"Id,PRP\"\n",
    "n_points = X_test.shape[0]\n",
    "y_pred_pp = np.ones((n_points, 2))\n",
    "y_pred_pp[:, 0] = range(n_points)\n",
    "y_pred_pp[:, 1] = Y_predict[:,0]\n",
    "print(y_pred_pp)\n",
    "np.savetxt('my_submission_b.csv', y_pred_pp, fmt='%d', delimiter=\",\",header=test_header, comments=\"\")"
   ]
  },
  {
   "cell_type": "code",
   "execution_count": null,
   "metadata": {},
   "outputs": [],
   "source": []
  }
 ],
 "metadata": {
  "kernelspec": {
   "display_name": "Python 3",
   "language": "python",
   "name": "python3"
  },
  "language_info": {
   "codemirror_mode": {
    "name": "ipython",
    "version": 3
   },
   "file_extension": ".py",
   "mimetype": "text/x-python",
   "name": "python",
   "nbconvert_exporter": "python",
   "pygments_lexer": "ipython3",
   "version": "3.7.2"
  }
 },
 "nbformat": 4,
 "nbformat_minor": 1
}
