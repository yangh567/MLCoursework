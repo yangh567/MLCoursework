{
 "cells": [
  {
   "cell_type": "markdown",
   "metadata": {},
   "source": [
    "### Performing K Nearest Neighbour Classifier,and ROC/AUC analysis on data\n",
    "\n",
    "- #### Procedures:\n",
    "    - ##### 1.The proccess for whole features\n",
    "        - ##### 1.1.Implement a KNN classifier\n",
    "        - ##### 1.2.Train data with cross validation to calculate the avarage accuracy and choose the Best K and observe average accuracy\n",
    "        - ##### 1.3.Split train data into cross_train and cross_test to observe the accuracy,draw the ROC and calculate AUC and confusion matrix with evaluation with Best K\n",
    "    - ##### 2.The proccess for subset of features by feature extraction\n",
    "        - ##### 2.1..Train data with cross validation to calculate the avarage accuracy and choose the Best K and observe average accuracy\n",
    "        - ##### 2.2.Split train data into cross_train and cross_test to observe the accuracy,draw the ROC and calculate AUC and confusion \n",
    "        - ##### 2.3.Predict the Y_test for submission with the classifier with Best K\n",
    "    - ##### 3.Compare the performance of KNN with whole features and subset of features with feature extraction"
   ]
  },
  {
   "cell_type": "code",
   "execution_count": 1,
   "metadata": {},
   "outputs": [],
   "source": [
    "import numpy as np\n",
    "import pylab as plt\n",
    "from sklearn.model_selection import train_test_split\n",
    "from sklearn.metrics import roc_curve, roc_auc_score \n",
    "from collections import Counter\n",
    "from random import seed\n",
    "from random import randrange\n",
    "from sklearn import feature_selection\n",
    "from sklearn.preprocessing import StandardScaler\n",
    "from sklearn.metrics import classification_report\n",
    "from sklearn.metrics import precision_score\n",
    "from sklearn.metrics import recall_score\n",
    "from sklearn.metrics import accuracy_score\n",
    "from sklearn.metrics import fbeta_score\n",
    "from sklearn.metrics import confusion_matrix\n",
    "from sklearn.feature_selection import VarianceThreshold\n",
    "from sklearn.model_selection import RepeatedKFold\n",
    "from sklearn.feature_selection import RFE\n",
    "from sklearn.linear_model import LogisticRegression\n",
    "from sklearn.feature_selection import SelectKBest\n",
    "from sklearn.feature_selection import f_classif\n",
    "%matplotlib inline"
   ]
  },
  {
   "cell_type": "markdown",
   "metadata": {},
   "source": [
    "### 1.The proccess for whole features"
   ]
  },
  {
   "cell_type": "markdown",
   "metadata": {},
   "source": [
    "#### 1.1:  Implement a KNN classifier\n",
    "\n",
    "\n",
    "##### First: Load classification data\n",
    "Download `X_train.csv` and `X_test.csv`,`y_train.csv` from Moodle. In X_train.csv, each row corresponds to an instance.the columns representing all of the features. The same format is used in `X_test.csv`. Load these datasets into python (numpy.loadtxt) and create an X matrix consisting of 112 columns and a Y_train as training t. Do the same for the test data so we have four objects: $\\mathbf{X}_{train}$, $\\mathbf{X}_{test}$, and $\\mathbf{Y}_{train}$.and normalize the data"
   ]
  },
  {
   "cell_type": "code",
   "execution_count": 2,
   "metadata": {},
   "outputs": [],
   "source": [
    "X_train = np.loadtxt('X_train.csv', delimiter=',', skiprows=1)\n",
    "X_test = np.loadtxt('X_test.csv', delimiter=',', skiprows=1)\n",
    "Y_train = np.loadtxt('y_train.csv', delimiter=',', skiprows=1)[:,1][:,None]\n",
    "\n",
    "# Make an instance of the Model\n",
    "# remove constant features\n",
    "thresholder = VarianceThreshold(threshold=0)\n",
    "X_train = thresholder.fit_transform(X_train)\n",
    "X_test = thresholder.transform(X_test)\n",
    "# normalize the data\n",
    "feature_scaler = StandardScaler()\n",
    "X_train = feature_scaler.fit_transform(X_train)\n",
    "X_test = feature_scaler.transform(X_test)"
   ]
  },
  {
   "cell_type": "markdown",
   "metadata": {},
   "source": [
    "##### Third: Write a KNN function for a single test example (a row)\n",
    "Implement a KNN function that takes a single test example and a value of K and returns a classification. the function will find the K closest (see below) training points to the test point and return the majority class\n",
    "amongst these training points.\n",
    "\n",
    "The distance between a test point and the ith row is given by:\n",
    "\n",
    "`sq_difference = (test_row - X_train[i,:])**2\n",
    "distance = np.sqrt(sq_difference.sum())`\n",
    "\n",
    "where test_row is a row of $\\mathbf{X}_{test}$.\n",
    "The first line creates a new vector which holds the squared difference of the two pairs of values. The second line takes the sum of these differences and then takes the square root. This is computing the Euclidean distance. Other distance metrics could also be used.\n",
    "\n",
    "the predicted score and the predicted class will be returned as dictionary"
   ]
  },
  {
   "cell_type": "code",
   "execution_count": 3,
   "metadata": {},
   "outputs": [],
   "source": [
    "def knn_classifier(trainX, traint, test_data, K):\n",
    "    # computing distances between the testing data(one row)to all training data\n",
    "    distances = np.sqrt(((trainX - test_data)**2).sum(axis=1)) \n",
    "    # zip the train data distance and the class them below to dy \n",
    "    dy = zip(distances, traint) \n",
    "    # sort the dy bt distance\n",
    "    dy = sorted(dy, key = lambda x: x[0]) \n",
    "    # select K instances of neareast neighbours\n",
    "    k_selected_neighbor = np.asarray(dy[:K]) \n",
    "    classes, counts = np.unique(k_selected_neighbor[:,1], return_counts=True)\n",
    "    prediction = {}\n",
    "    # assign the class of training data to the testing data with the highest ammount\n",
    "    prediction[\"predicted_class\"] = classes[counts.argmax()]\n",
    "    # calculate the prediction score for testing data \n",
    "    if ( len(classes) == 1 and classes[counts.argmax()] == 2.0):\n",
    "        prediction[\"predicted_score\"] = np.hstack( (1.0- (1.0*counts/sum(counts)), 1.0*counts/sum(counts) ) )\n",
    "    elif ( len(classes) == 1 and classes[counts.argmax()] == 1.0):\n",
    "        prediction[\"predicted_score\"] = np.hstack( ( 1.0*counts/sum(counts), 1.0- (1.0*counts/sum(counts)) ) )\n",
    "    else:\n",
    "        prediction[\"predicted_score\"] = 1.0*counts/sum(counts)\n",
    "    return(prediction)"
   ]
  },
  {
   "cell_type": "markdown",
   "metadata": {},
   "source": [
    "##### 1.2.Train data with cross validation to calculate the avarage accuracy and choose the Best K and observe average accuracy"
   ]
  },
  {
   "cell_type": "code",
   "execution_count": 4,
   "metadata": {},
   "outputs": [
    {
     "name": "stdout",
     "output_type": "stream",
     "text": [
      "[(1.0, 12), (1.0, 92), (0.85, 11), (0.85, 2), (0.95, 4), (0.95, 2), (0.8, 0), (0.95, 2), (0.95, 0), (0.85, 86), (0.85, 5), (0.85, 6), (1.0, 0), (0.9, 0), (0.95, 4), (1.0, 3), (0.9, 4), (0.9, 1), (0.95, 0), (0.75, 0), (0.7, 0), (1.0, 0), (0.95, 2), (1.0, 0), (0.8, 2), (1.0, 0), (0.8, 0), (0.85, 1), (0.95, 4), (0.9, 0), (0.95, 2), (1.0, 8), (1.0, 4), (0.9, 0), (1.0, 0), (0.8, 0), (0.9, 4), (0.85, 98), (0.95, 4), (0.8, 4), (0.85, 2), (0.9, 8), (0.95, 4), (0.85, 74), (0.95, 0), (0.95, 59), (0.95, 4), (0.95, 0), (0.95, 2), (0.8, 1), (0.9, 4), (0.9, 6), (0.95, 5), (0.9, 2), (0.9, 4), (0.9, 0), (0.85, 3), (0.85, 0), (0.95, 0), (0.95, 0), (0.95, 2), (0.95, 4), (0.9, 0), (0.9, 1), (0.95, 0), (0.85, 0), (0.95, 1), (0.85, 0), (0.95, 4), (0.95, 68), (0.8, 0), (0.9, 0), (0.95, 2), (0.95, 58), (1.0, 2), (0.9, 1), (0.85, 2), (0.95, 6), (0.9, 0), (0.9, 0), (0.9, 0), (0.95, 44), (0.9, 0), (0.95, 4), (0.95, 0), (0.95, 3), (0.95, 2), (0.85, 2), (0.75, 0), (0.9, 4), (0.85, 4), (0.95, 1), (0.85, 1), (1.0, 62), (0.95, 2), (0.95, 2), (0.95, 0), (0.85, 82), (0.95, 6), (0.95, 0)]\n",
      "The average accuracy : 0.9105000000000009\n",
      "The average k : 9.15\n"
     ]
    }
   ],
   "source": [
    "kf = RepeatedKFold(n_splits=10, n_repeats=10, random_state=1)\n",
    "\n",
    "results = []\n",
    "\n",
    "for train_index, test_index in kf.split(X_train):\n",
    "    #print(\"TRAIN:\", train_index, \"TEST:\", test_index)\n",
    "    cross_fold_X_train, cross_fold_X_test = X_train[train_index], X_train[test_index]\n",
    "    cross_fold_Y_train, cross_fold_Y_test = Y_train[train_index].flatten(), Y_train[test_index].flatten()\n",
    "    \n",
    "    \n",
    "    Kvals = np.arange(1,100,1)\n",
    "    accuracy = []\n",
    "\n",
    "    for k in Kvals:\n",
    "        correct = 0\n",
    "        for i,row in enumerate(cross_fold_X_test):\n",
    "            c = knn_classifier(cross_fold_X_train,cross_fold_Y_train,row,K=k)[\"predicted_class\"]\n",
    "            if c == cross_fold_Y_test[i]:\n",
    "                correct += 1\n",
    "        accuracy.append(1.0*correct / (1.0*len(cross_fold_X_test)))\n",
    "    results.append((max(accuracy),np.array(accuracy).argmax()))\n",
    "print(results)\n",
    "temp = 0\n",
    "k = 0\n",
    "for (i,j) in results:\n",
    "    temp += i\n",
    "    k += j\n",
    "print(\"The average accuracy :\",temp/len(results))\n",
    "print(\"The average k :\",k/len(results))\n"
   ]
  },
  {
   "cell_type": "markdown",
   "metadata": {},
   "source": [
    "##### 1.3.Split train data into cross_train and cross_test again to observe the accuracy for comfirmation,draw the ROC and calculate AUC and confusion matrix for evaluation with Best K"
   ]
  },
  {
   "cell_type": "code",
   "execution_count": 5,
   "metadata": {},
   "outputs": [
    {
     "name": "stdout",
     "output_type": "stream",
     "text": [
      "Counter({2.0: 73, 1.0: 67})\n",
      "Counter({2.0: 33, 1.0: 27})\n"
     ]
    }
   ],
   "source": [
    "cross_X_train, cross_X_test, cross_Y_train, cross_Y_test = train_test_split(X_train,Y_train, test_size=0.3,random_state=28)\n",
    "ctrain = Counter(cross_Y_train.flatten())\n",
    "ctest = Counter(cross_Y_test.flatten())\n",
    "print(ctrain)\n",
    "print(ctest)"
   ]
  },
  {
   "cell_type": "code",
   "execution_count": 6,
   "metadata": {},
   "outputs": [],
   "source": [
    "predictions_knn = np.zeros((60, 3))\n",
    "for j,tx in enumerate(cross_X_test):\n",
    "    knn_results = knn_classifier(cross_X_train, cross_Y_train, tx, K = 9)\n",
    "    predictions_knn[j, 0] = knn_results['predicted_class']\n",
    "    predictions_knn[j, 1:] = knn_results['predicted_score']"
   ]
  },
  {
   "cell_type": "code",
   "execution_count": 7,
   "metadata": {},
   "outputs": [
    {
     "name": "stdout",
     "output_type": "stream",
     "text": [
      "The accuracy for KNN classifier with all features: 0.8666666666666667\n"
     ]
    }
   ],
   "source": [
    "print(\"The accuracy for KNN classifier with all features:\",np.mean(cross_Y_test.flatten() == predictions_knn[:,0]))"
   ]
  },
  {
   "cell_type": "markdown",
   "metadata": {},
   "source": [
    "##### First: test the cross_X_test 's ROC curves"
   ]
  },
  {
   "cell_type": "code",
   "execution_count": 8,
   "metadata": {},
   "outputs": [
    {
     "data": {
      "text/plain": [
       "Text(0,0.5,'Sensitivity or True Positive Rate')"
      ]
     },
     "execution_count": 8,
     "metadata": {},
     "output_type": "execute_result"
    },
    {
     "data": {
      "image/png": "[encoded data removed]",
      "text/plain": [
       "<matplotlib.figure.Figure at 0x1e45f30ac88>"
      ]
     },
     "metadata": {},
     "output_type": "display_data"
    }
   ],
   "source": [
    "fpr_knn, tpr_knn, th_knn = roc_curve(cross_Y_test-1, predictions_knn[:,2])\n",
    "plt.plot(fpr_knn, tpr_knn, \"r\")\n",
    "plt.xlabel(\"1-Specificity  or False Positive Rate\")\n",
    "plt.ylabel(\"Sensitivity or True Positive Rate\")\n"
   ]
  },
  {
   "cell_type": "markdown",
   "metadata": {},
   "source": [
    "##### Second:  Compute the AUC for KNN classifier \n",
    "\n",
    "AUCs range between 0.5 and 1. Higher AUC indicates better classifier"
   ]
  },
  {
   "cell_type": "code",
   "execution_count": 9,
   "metadata": {},
   "outputs": [
    {
     "name": "stdout",
     "output_type": "stream",
     "text": [
      "0.9438832772166106\n"
     ]
    }
   ],
   "source": [
    "auc_knn = roc_auc_score(cross_Y_test-1, predictions_knn[:,2])\n",
    "print(auc_knn)\n"
   ]
  },
  {
   "cell_type": "markdown",
   "metadata": {},
   "source": [
    "#### Third:Draw the confusion matrix for identifying TP,TF,FP,FN for evaluation"
   ]
  },
  {
   "cell_type": "code",
   "execution_count": 10,
   "metadata": {},
   "outputs": [],
   "source": [
    "def evaluation_summary(description, predictions, true_labels):\n",
    "  print(\"Evaluation for: \" + description)\n",
    "  precision = precision_score(predictions, true_labels, average='macro')\n",
    "  recall = recall_score(predictions, true_labels, average='macro')\n",
    "  accuracy = accuracy_score(predictions, true_labels)\n",
    "  f1 = fbeta_score(predictions, true_labels, 1, average='macro') #1 means f_1 measure\n",
    "  print(\"Classifier '%s' has Acc=%0.3f P=%0.3f R=%0.3f F1=%0.3f\" % (description,accuracy,precision,recall,f1))\n",
    "  print(classification_report(predictions, true_labels, digits=3))"
   ]
  },
  {
   "cell_type": "code",
   "execution_count": 11,
   "metadata": {},
   "outputs": [],
   "source": [
    "def plot_confusion_matrix(y_true, y_pred,\n",
    "                          normalize=False,\n",
    "                          title=None,\n",
    "                          cmap=plt.cm.PuRd):\n",
    "    \"\"\"\n",
    "    This function prints and plots the confusion matrix.\n",
    "    Normalization can be applied by setting `normalize=True`.\n",
    "    \"\"\"\n",
    "    if not title:\n",
    "        if normalize:\n",
    "            title = 'Normalized confusion matrix'\n",
    "        else:\n",
    "            title = 'Confusion matrix, without normalization'\n",
    "\n",
    "    # Compute confusion matrix\n",
    "    cm = confusion_matrix(y_true, y_pred)\n",
    "    # Only use the labels that appear in the data\n",
    "#     classes = classes[unique_labels(y_true, y_pred)]\n",
    "    if normalize:\n",
    "        cm = cm.astype('float') / cm.sum(axis=1)[:, np.newaxis]\n",
    "        print(\"Normalized confusion matrix\")\n",
    "    else:\n",
    "        print('Confusion matrix, without normalization')\n",
    "\n",
    "    print(cm)\n",
    "\n",
    "    fig, ax = plt.subplots(figsize=(12,10))\n",
    "    im = ax.imshow(cm, interpolation='nearest', cmap=cmap)\n",
    "    ax.figure.colorbar(im, ax=ax)\n",
    "    # We want to show all ticks...\n",
    "    ax.set(xticks=np.arange(cm.shape[1]),\n",
    "           yticks=np.arange(cm.shape[0]),\n",
    "           # ... and label them with the respective list entries\n",
    "           title=title,\n",
    "           ylabel='True label',\n",
    "           xlabel='Predicted label')\n",
    "\n",
    "    # Rotate the tick labels and set their alignment.\n",
    "    plt.setp(ax.get_xticklabels(), rotation=45, ha=\"right\",\n",
    "             rotation_mode=\"anchor\")\n",
    "\n",
    "    # Loop over data dimensions and create text annotations.\n",
    "    fmt = '.2f' if normalize else 'd'\n",
    "    thresh = cm.max() / 2.\n",
    "    for i in range(cm.shape[0]):\n",
    "        for j in range(cm.shape[1]):\n",
    "            ax.text(j, i, format(cm[i, j], fmt),\n",
    "                    ha=\"center\", va=\"center\",\n",
    "                    color=\"white\" if cm[i, j] > thresh else \"black\")\n",
    "    fig.tight_layout()\n",
    "    return ax\n",
    "\n"
   ]
  },
  {
   "cell_type": "code",
   "execution_count": 12,
   "metadata": {},
   "outputs": [
    {
     "name": "stdout",
     "output_type": "stream",
     "text": [
      "Evaluation for: description\n",
      "Classifier 'description' has Acc=0.867 P=0.872 R=0.869 F1=0.867\n",
      "              precision    recall  f1-score   support\n",
      "\n",
      "         1.0      0.926     0.806     0.862        31\n",
      "         2.0      0.818     0.931     0.871        29\n",
      "\n",
      "    accuracy                          0.867        60\n",
      "   macro avg      0.872     0.869     0.867        60\n",
      "weighted avg      0.874     0.867     0.866        60\n",
      "\n",
      "Confusion matrix, without normalization\n",
      "[[25  2]\n",
      " [ 6 27]]\n"
     ]
    },
    {
     "data": {
      "text/plain": [
       "<matplotlib.axes._subplots.AxesSubplot at 0x1e473775908>"
      ]
     },
     "execution_count": 12,
     "metadata": {},
     "output_type": "execute_result"
    },
    {
     "data": {
      "image/png": "[encoded data removed]",
      "text/plain": [
       "<matplotlib.figure.Figure at 0x1e4722027b8>"
      ]
     },
     "metadata": {},
     "output_type": "display_data"
    }
   ],
   "source": [
    "evaluation_summary(\"description\", predictions_knn[:, 0], cross_Y_test)\n",
    "plot_confusion_matrix(cross_Y_test, predictions_knn[:, 0],normalize=False,\n",
    "                          title=None,\n",
    "                          cmap=plt.cm.PuRd)"
   ]
  },
  {
   "cell_type": "markdown",
   "metadata": {},
   "source": [
    "### 2.The proccess for subset of features by feature extraction"
   ]
  },
  {
   "cell_type": "code",
   "execution_count": 13,
   "metadata": {},
   "outputs": [],
   "source": [
    "skb = SelectKBest(f_classif, k=50)\n",
    "X_train_sub = skb.fit_transform(X_train, Y_train.ravel())\n",
    "X_test_sub = skb.transform(X_test)\n",
    "\n",
    "model = LogisticRegression()\n",
    "rfe = RFE(model,10)\n",
    "fit = rfe.fit(X_train_sub, Y_train.ravel())\n",
    "X_train_sub = fit.transform(X_train_sub)\n",
    "X_test_sub = fit.transform(X_test_sub)\n",
    "\n",
    "\n",
    "Y_train_sub = Y_train"
   ]
  },
  {
   "cell_type": "markdown",
   "metadata": {},
   "source": [
    "#### 2.1.Train data with cross validation to calculate the avarage accuracy and choose the Best K and observe average accuracy"
   ]
  },
  {
   "cell_type": "code",
   "execution_count": 14,
   "metadata": {},
   "outputs": [
    {
     "name": "stdout",
     "output_type": "stream",
     "text": [
      "[(1.0, 4), (0.95, 0), (0.95, 1), (0.85, 1), (0.85, 2), (0.95, 1), (0.9, 1), (1.0, 4), (0.9, 0), (0.85, 0), (0.95, 3), (0.9, 1), (0.95, 2), (0.9, 2), (0.95, 2), (1.0, 0), (0.95, 0), (0.95, 1), (0.95, 4), (0.85, 4), (0.85, 1), (1.0, 0), (0.95, 4), (0.95, 6), (0.9, 0), (1.0, 0), (0.8, 1), (0.95, 2), (1.0, 2), (0.95, 4), (1.0, 2), (1.0, 2), (1.0, 3), (0.9, 2), (1.0, 6), (0.9, 0), (0.9, 4), (0.9, 11), (0.95, 0), (0.75, 1), (0.9, 1), (0.95, 12), (1.0, 4), (0.95, 0), (1.0, 1), (0.95, 0), (0.9, 0), (1.0, 2), (0.95, 2), (0.85, 1), (0.9, 2), (0.95, 0), (0.95, 1), (1.0, 2), (0.95, 11), (0.9, 1), (0.85, 1), (0.85, 2), (0.95, 4), (1.0, 0), (0.95, 5), (0.95, 18), (0.95, 0), (0.95, 0), (0.95, 0), (0.9, 0), (0.95, 0), (1.0, 1), (0.95, 0), (0.9, 4), (0.8, 0), (0.9, 0), (0.95, 2), (0.95, 2), (0.95, 0), (1.0, 1), (0.9, 4), (0.95, 6), (0.9, 0), (0.95, 3), (0.95, 3), (0.95, 1), (0.9, 1), (0.9, 2), (0.9, 1), (0.95, 0), (0.95, 0), (0.9, 0), (0.85, 3), (1.0, 0), (0.85, 2), (1.0, 4), (0.95, 1), (1.0, 11), (0.95, 4), (1.0, 2), (0.95, 2), (0.9, 98), (0.95, 2), (0.85, 0)]\n",
      "The average accuracy : 0.9330000000000009\n",
      "The average k : 3.14\n"
     ]
    }
   ],
   "source": [
    "kf = RepeatedKFold(n_splits=10, n_repeats=10, random_state=1)\n",
    "\n",
    "results_sub = []\n",
    "\n",
    "for train_index_sub, test_index_sub in kf.split(X_train_sub):\n",
    "    #print(\"TRAIN:\", train_index, \"TEST:\", test_index)\n",
    "    cross_fold_X_train_sub, cross_fold_X_test_sub = X_train_sub[train_index_sub], X_train_sub[test_index_sub]\n",
    "    cross_fold_Y_train_sub, cross_fold_Y_test_sub = Y_train_sub[train_index_sub].flatten(), Y_train_sub[test_index_sub].flatten()\n",
    "    \n",
    "    Kvals = np.arange(1,100,1)\n",
    "    accuracy = []\n",
    "\n",
    "    for k in Kvals:\n",
    "        correct = 0\n",
    "        for i,row in enumerate(cross_fold_X_test_sub):\n",
    "            c = knn_classifier(cross_fold_X_train_sub,cross_fold_Y_train_sub,row,K=k)[\"predicted_class\"]\n",
    "            if c == cross_fold_Y_test_sub[i]:\n",
    "                correct += 1\n",
    "        accuracy.append(1.0*correct / (1.0*len(cross_fold_X_test_sub)))\n",
    "    results_sub.append((max(accuracy),np.array(accuracy).argmax()))\n",
    "print(results_sub)\n",
    "temp = 0\n",
    "k = 0\n",
    "for (i,j) in results_sub:\n",
    "    temp += i\n",
    "    k += j\n",
    "print(\"The average accuracy :\",temp/len(results_sub))\n",
    "print(\"The average k :\",k/len(results_sub))\n"
   ]
  },
  {
   "cell_type": "markdown",
   "metadata": {},
   "source": [
    "#### 2.2.Split train data into cross_train and cross_test to observe the accuracy,draw the ROC and calculate AUC and confusion"
   ]
  },
  {
   "cell_type": "code",
   "execution_count": 15,
   "metadata": {},
   "outputs": [
    {
     "name": "stdout",
     "output_type": "stream",
     "text": [
      "Counter({2.0: 73, 1.0: 67})\n"
     ]
    }
   ],
   "source": [
    "cross_X_train_sub, cross_X_test_sub, cross_Y_train_sub, cross_Y_test_sub = train_test_split(X_train_sub,Y_train_sub, test_size=0.3,random_state=28)\n",
    "ctrain = Counter(cross_Y_train_sub.flatten())\n",
    "print(ctrain)"
   ]
  },
  {
   "cell_type": "code",
   "execution_count": 16,
   "metadata": {},
   "outputs": [],
   "source": [
    "predictions_knn_sub = np.zeros((60, 3))\n",
    "for j,tx in enumerate(cross_X_test_sub):\n",
    "    knn_results = knn_classifier(cross_X_train_sub, cross_Y_train_sub, tx, K = 3)\n",
    "    predictions_knn_sub[j, 0] = knn_results['predicted_class']\n",
    "    predictions_knn_sub[j, 1:] = knn_results['predicted_score']"
   ]
  },
  {
   "cell_type": "code",
   "execution_count": 17,
   "metadata": {},
   "outputs": [
    {
     "name": "stdout",
     "output_type": "stream",
     "text": [
      "The accuracy for KNN classifier with subset features: 0.9\n"
     ]
    }
   ],
   "source": [
    "print(\"The accuracy for KNN classifier with subset features:\",np.mean(cross_Y_test_sub.flatten() == predictions_knn_sub[:,0]))"
   ]
  },
  {
   "cell_type": "markdown",
   "metadata": {},
   "source": [
    "##### First: test the cross_X_test 's ROC curves"
   ]
  },
  {
   "cell_type": "code",
   "execution_count": 18,
   "metadata": {},
   "outputs": [
    {
     "data": {
      "text/plain": [
       "Text(0,0.5,'Sensitivity or True Positive Rate')"
      ]
     },
     "execution_count": 18,
     "metadata": {},
     "output_type": "execute_result"
    },
    {
     "data": {
      "image/png": "[encoded data removed]",
      "text/plain": [
       "<matplotlib.figure.Figure at 0x1e473719940>"
      ]
     },
     "metadata": {},
     "output_type": "display_data"
    }
   ],
   "source": [
    "fpr_knn_sub, tpr_knn_sub, th_knn_sub = roc_curve(cross_Y_test_sub-1, predictions_knn_sub[:,2])\n",
    "plt.plot(fpr_knn_sub, tpr_knn_sub, \"r\")\n",
    "plt.xlabel(\"1-Specificity  or False Positive Rate\")\n",
    "plt.ylabel(\"Sensitivity or True Positive Rate\")\n"
   ]
  },
  {
   "cell_type": "markdown",
   "metadata": {},
   "source": [
    "##### second:  Compute the AUC for KNN classifier \n",
    "\n",
    "AUCs range between 0.5 and 1. Higher AUC indicates better classifier"
   ]
  },
  {
   "cell_type": "code",
   "execution_count": 19,
   "metadata": {},
   "outputs": [
    {
     "name": "stdout",
     "output_type": "stream",
     "text": [
      "0.9377104377104377\n"
     ]
    }
   ],
   "source": [
    "auc_knn = roc_auc_score(cross_Y_test_sub-1, predictions_knn_sub[:,2])\n",
    "print(auc_knn)"
   ]
  },
  {
   "cell_type": "markdown",
   "metadata": {},
   "source": [
    "#### Third:Draw the confusion matrix for identifying TP,TF,FP,FN for evaluation"
   ]
  },
  {
   "cell_type": "code",
   "execution_count": 20,
   "metadata": {},
   "outputs": [
    {
     "name": "stdout",
     "output_type": "stream",
     "text": [
      "Evaluation for: description\n",
      "Classifier 'description' has Acc=0.900 P=0.906 R=0.902 F1=0.900\n",
      "              precision    recall  f1-score   support\n",
      "\n",
      "         1.0      0.963     0.839     0.897        31\n",
      "         2.0      0.848     0.966     0.903        29\n",
      "\n",
      "    accuracy                          0.900        60\n",
      "   macro avg      0.906     0.902     0.900        60\n",
      "weighted avg      0.908     0.900     0.900        60\n",
      "\n",
      "Confusion matrix, without normalization\n",
      "[[26  1]\n",
      " [ 5 28]]\n"
     ]
    },
    {
     "data": {
      "text/plain": [
       "<matplotlib.axes._subplots.AxesSubplot at 0x1e473719438>"
      ]
     },
     "execution_count": 20,
     "metadata": {},
     "output_type": "execute_result"
    },
    {
     "data": {
      "image/png": "[encoded data removed]",
      "text/plain": [
       "<matplotlib.figure.Figure at 0x1e4737335c0>"
      ]
     },
     "metadata": {},
     "output_type": "display_data"
    }
   ],
   "source": [
    "evaluation_summary(\"description\", predictions_knn_sub[:, 0], cross_Y_test_sub)\n",
    "plot_confusion_matrix(cross_Y_test_sub, predictions_knn_sub[:, 0],normalize=False,\n",
    "                          title=None,\n",
    "                          cmap=plt.cm.PuRd)"
   ]
  },
  {
   "cell_type": "markdown",
   "metadata": {},
   "source": [
    "#### 2.3.Predict the Y_test for submission with the classifier with Best K"
   ]
  },
  {
   "cell_type": "code",
   "execution_count": 21,
   "metadata": {},
   "outputs": [],
   "source": [
    "y_prediction = []\n",
    "for i in range(len(X_test)):\n",
    "    c = knn_classifier(X_train,Y_train,X_test[i,:],K=3)\n",
    "    y_prediction.append(c[\"predicted_class\"])\n",
    "y_prediction = np.array(y_prediction)"
   ]
  },
  {
   "cell_type": "code",
   "execution_count": 22,
   "metadata": {},
   "outputs": [
    {
     "name": "stdout",
     "output_type": "stream",
     "text": [
      "[[  0.   2.]\n",
      " [  1.   2.]\n",
      " [  2.   2.]\n",
      " ...\n",
      " [795.   1.]\n",
      " [796.   2.]\n",
      " [797.   2.]]\n"
     ]
    }
   ],
   "source": [
    "test_header = \"Id,EpiOrStroma\"\n",
    "n_points = X_test.shape[0]\n",
    "y_pred_pp = np.ones((n_points, 2))\n",
    "y_pred_pp[:, 0] = range(n_points)\n",
    "y_pred_pp[:, 1] = y_prediction[:,0]\n",
    "print(y_pred_pp)\n",
    "\n",
    "np.savetxt('my_submission_k_nearest_neighbour_cl.csv', y_pred_pp, fmt='%d', delimiter=\",\",header=test_header, comments=\"\")"
   ]
  },
  {
   "cell_type": "markdown",
   "metadata": {},
   "source": [
    "### 3.Compare the performance of KNN with whole features and subset of features"
   ]
  },
  {
   "cell_type": "markdown",
   "metadata": {},
   "source": [
    "#### The performance for the whole feature data using KNN sharing the average accuracy around 0.91 with Repeated k-fold cross validation,whereas the performance for RFE(top 10 features) data using KNN sharing the average accuracy around 0.93 using Repeated k-fold cross validation with same k folds,which indicate the for KNN classifier ,the accuracy might be higher for that classifier if we select important features"
   ]
  },
  {
   "cell_type": "markdown",
   "metadata": {},
   "source": [
    "#### The ROC for KNN classifier with all features(red) and subset of features(blue) is sketched below"
   ]
  },
  {
   "cell_type": "code",
   "execution_count": 23,
   "metadata": {},
   "outputs": [
    {
     "data": {
      "text/plain": [
       "Text(0,0.5,'Sensitivity or True Positive Rate')"
      ]
     },
     "execution_count": 23,
     "metadata": {},
     "output_type": "execute_result"
    },
    {
     "data": {
      "image/png": "[encoded data removed]",
      "text/plain": [
       "<matplotlib.figure.Figure at 0x1e4737c02e8>"
      ]
     },
     "metadata": {},
     "output_type": "display_data"
    }
   ],
   "source": [
    "plt.plot(fpr_knn, tpr_knn, \"r\")\n",
    "plt.plot(fpr_knn_sub, tpr_knn_sub)\n",
    "plt.xlabel(\"1-Specificity  or False Positive Rate\")\n",
    "plt.ylabel(\"Sensitivity or True Positive Rate\")"
   ]
  }
 ],
 "metadata": {
  "kernelspec": {
   "display_name": "Python 3",
   "language": "python",
   "name": "python3"
  },
  "language_info": {
   "codemirror_mode": {
    "name": "ipython",
    "version": 3
   },
   "file_extension": ".py",
   "mimetype": "text/x-python",
   "name": "python",
   "nbconvert_exporter": "python",
   "pygments_lexer": "ipython3",
   "version": "3.6.4"
  }
 },
 "nbformat": 4,
 "nbformat_minor": 2
}
